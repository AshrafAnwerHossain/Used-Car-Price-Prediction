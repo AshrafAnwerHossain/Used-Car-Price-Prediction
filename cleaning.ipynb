{
 "cells": [
  {
   "cell_type": "markdown",
   "metadata": {},
   "source": [
    "### Importing Libraries"
   ]
  },
  {
   "cell_type": "code",
   "execution_count": 3,
   "metadata": {},
   "outputs": [],
   "source": [
    "import pandas as pd"
   ]
  },
  {
   "cell_type": "markdown",
   "metadata": {},
   "source": [
    "### Data"
   ]
  },
  {
   "cell_type": "code",
   "execution_count": 4,
   "metadata": {},
   "outputs": [],
   "source": [
    "df = pd.read_csv('clean_data.csv')"
   ]
  },
  {
   "cell_type": "code",
   "execution_count": 5,
   "metadata": {
    "scrolled": true
   },
   "outputs": [
    {
     "data": {
      "text/html": [
       "<div>\n",
       "<style scoped>\n",
       "    .dataframe tbody tr th:only-of-type {\n",
       "        vertical-align: middle;\n",
       "    }\n",
       "\n",
       "    .dataframe tbody tr th {\n",
       "        vertical-align: top;\n",
       "    }\n",
       "\n",
       "    .dataframe thead th {\n",
       "        text-align: right;\n",
       "    }\n",
       "</style>\n",
       "<table border=\"1\" class=\"dataframe\">\n",
       "  <thead>\n",
       "    <tr style=\"text-align: right;\">\n",
       "      <th></th>\n",
       "      <th>Links</th>\n",
       "      <th>Name</th>\n",
       "      <th>Price</th>\n",
       "      <th>Location</th>\n",
       "      <th>Mileage</th>\n",
       "      <th>Transmission</th>\n",
       "      <th>Exterior Colour</th>\n",
       "      <th>Engine</th>\n",
       "      <th>Drivetrain</th>\n",
       "      <th>Fuel Type</th>\n",
       "      <th>Major Options</th>\n",
       "    </tr>\n",
       "  </thead>\n",
       "  <tbody>\n",
       "    <tr>\n",
       "      <th>0</th>\n",
       "      <td>ViewedSave this listing2017 Volkswagen Golf 1....</td>\n",
       "      <td>2017 Volkswagen Golf 1.8T Comfortline 4-Door F...</td>\n",
       "      <td>$15,990</td>\n",
       "      <td>New Westminster, BC\\n6 km away</td>\n",
       "      <td>83,000 kilometres</td>\n",
       "      <td>Automatic</td>\n",
       "      <td>White</td>\n",
       "      <td>NaN</td>\n",
       "      <td>NaN</td>\n",
       "      <td>NaN</td>\n",
       "      <td>Bluetooth, Backup Camera, Heated Seats, CarPlay</td>\n",
       "    </tr>\n",
       "    <tr>\n",
       "      <th>1</th>\n",
       "      <td>ViewedSave this listing2019 RAM 1500 Classic T...</td>\n",
       "      <td>2019 RAM 1500 Classic Tradesman Crew Cab 4WD -...</td>\n",
       "      <td>$38,900</td>\n",
       "      <td>New Westminster, BC\\n6 km away</td>\n",
       "      <td>26,000 kilometres</td>\n",
       "      <td>Automatic</td>\n",
       "      <td>Blue</td>\n",
       "      <td>305 hp 3.6L V6 Flex Fuel Vehicle</td>\n",
       "      <td>Four-Wheel Drive</td>\n",
       "      <td>Flex Fuel Vehicle</td>\n",
       "      <td>Alloy Wheels, Bluetooth, Backup Camera, Remote...</td>\n",
       "    </tr>\n",
       "    <tr>\n",
       "      <th>2</th>\n",
       "      <td>ViewedSave this listing2015 Lexus NX 200t AWD$...</td>\n",
       "      <td>2015 Lexus NX 200t AWD - $28,900</td>\n",
       "      <td>$28,900</td>\n",
       "      <td>Port Coquitlam, BC\\n16 km away</td>\n",
       "      <td>49,000 kilometres</td>\n",
       "      <td>Automatic</td>\n",
       "      <td>Silver</td>\n",
       "      <td>235 hp 2L I4</td>\n",
       "      <td>All-Wheel Drive</td>\n",
       "      <td>Gasoline</td>\n",
       "      <td>Sport Package, Bluetooth, Backup Camera, Heate...</td>\n",
       "    </tr>\n",
       "    <tr>\n",
       "      <th>3</th>\n",
       "      <td>ViewedSave this listing2003 Toyota Tacoma Prer...</td>\n",
       "      <td>2003 Toyota Tacoma Prerunner V6 Crew Cab SB - ...</td>\n",
       "      <td>$11,980</td>\n",
       "      <td>Burnaby, BC\\n5 km away</td>\n",
       "      <td>216,288 kilometres</td>\n",
       "      <td>Automatic</td>\n",
       "      <td>Red</td>\n",
       "      <td>190 hp 3.4L V6</td>\n",
       "      <td>Rear-Wheel Drive</td>\n",
       "      <td>Gasoline</td>\n",
       "      <td>Alloy Wheels</td>\n",
       "    </tr>\n",
       "    <tr>\n",
       "      <th>4</th>\n",
       "      <td>ViewedSave this listing2015 INFINITI Q70 3.7 A...</td>\n",
       "      <td>2015 INFINITI Q70 3.7 AWD - $16,888</td>\n",
       "      <td>$16,888</td>\n",
       "      <td>Victoria, BC\\n91 km away</td>\n",
       "      <td>144,718 kilometres</td>\n",
       "      <td>7-Speed Automatic</td>\n",
       "      <td>Black</td>\n",
       "      <td>330 hp 3.7L V6</td>\n",
       "      <td>All-Wheel Drive</td>\n",
       "      <td>Gasoline</td>\n",
       "      <td>Leather Seats, Sunroof/Moonroof, Navigation Sy...</td>\n",
       "    </tr>\n",
       "  </tbody>\n",
       "</table>\n",
       "</div>"
      ],
      "text/plain": [
       "                                               Links  \\\n",
       "0  ViewedSave this listing2017 Volkswagen Golf 1....   \n",
       "1  ViewedSave this listing2019 RAM 1500 Classic T...   \n",
       "2  ViewedSave this listing2015 Lexus NX 200t AWD$...   \n",
       "3  ViewedSave this listing2003 Toyota Tacoma Prer...   \n",
       "4  ViewedSave this listing2015 INFINITI Q70 3.7 A...   \n",
       "\n",
       "                                                Name    Price  \\\n",
       "0  2017 Volkswagen Golf 1.8T Comfortline 4-Door F...  $15,990   \n",
       "1  2019 RAM 1500 Classic Tradesman Crew Cab 4WD -...  $38,900   \n",
       "2                   2015 Lexus NX 200t AWD - $28,900  $28,900   \n",
       "3  2003 Toyota Tacoma Prerunner V6 Crew Cab SB - ...  $11,980   \n",
       "4                2015 INFINITI Q70 3.7 AWD - $16,888  $16,888   \n",
       "\n",
       "                         Location             Mileage       Transmission  \\\n",
       "0  New Westminster, BC\\n6 km away   83,000 kilometres          Automatic   \n",
       "1  New Westminster, BC\\n6 km away   26,000 kilometres          Automatic   \n",
       "2  Port Coquitlam, BC\\n16 km away   49,000 kilometres          Automatic   \n",
       "3          Burnaby, BC\\n5 km away  216,288 kilometres          Automatic   \n",
       "4        Victoria, BC\\n91 km away  144,718 kilometres  7-Speed Automatic   \n",
       "\n",
       "  Exterior Colour                            Engine        Drivetrain  \\\n",
       "0           White                               NaN               NaN   \n",
       "1            Blue  305 hp 3.6L V6 Flex Fuel Vehicle  Four-Wheel Drive   \n",
       "2          Silver                      235 hp 2L I4   All-Wheel Drive   \n",
       "3             Red                    190 hp 3.4L V6  Rear-Wheel Drive   \n",
       "4           Black                    330 hp 3.7L V6   All-Wheel Drive   \n",
       "\n",
       "           Fuel Type                                      Major Options  \n",
       "0                NaN    Bluetooth, Backup Camera, Heated Seats, CarPlay  \n",
       "1  Flex Fuel Vehicle  Alloy Wheels, Bluetooth, Backup Camera, Remote...  \n",
       "2           Gasoline  Sport Package, Bluetooth, Backup Camera, Heate...  \n",
       "3           Gasoline                                       Alloy Wheels  \n",
       "4           Gasoline  Leather Seats, Sunroof/Moonroof, Navigation Sy...  "
      ]
     },
     "execution_count": 5,
     "metadata": {},
     "output_type": "execute_result"
    }
   ],
   "source": [
    "df.head()"
   ]
  },
  {
   "cell_type": "code",
   "execution_count": 6,
   "metadata": {},
   "outputs": [
    {
     "data": {
      "text/plain": [
       "(3072, 11)"
      ]
     },
     "execution_count": 6,
     "metadata": {},
     "output_type": "execute_result"
    }
   ],
   "source": [
    "df.shape"
   ]
  },
  {
   "cell_type": "code",
   "execution_count": 7,
   "metadata": {
    "scrolled": true
   },
   "outputs": [
    {
     "name": "stdout",
     "output_type": "stream",
     "text": [
      "<class 'pandas.core.frame.DataFrame'>\n",
      "RangeIndex: 3072 entries, 0 to 3071\n",
      "Data columns (total 11 columns):\n",
      " #   Column           Non-Null Count  Dtype \n",
      "---  ------           --------------  ----- \n",
      " 0   Links            3072 non-null   object\n",
      " 1   Name             3040 non-null   object\n",
      " 2   Price            3068 non-null   object\n",
      " 3   Location         2978 non-null   object\n",
      " 4   Mileage          3070 non-null   object\n",
      " 5   Transmission     3014 non-null   object\n",
      " 6   Exterior Colour  2805 non-null   object\n",
      " 7   Engine           2424 non-null   object\n",
      " 8   Drivetrain       2239 non-null   object\n",
      " 9   Fuel Type        2460 non-null   object\n",
      " 10  Major Options    2470 non-null   object\n",
      "dtypes: object(11)\n",
      "memory usage: 264.1+ KB\n"
     ]
    }
   ],
   "source": [
    "df.info()"
   ]
  },
  {
   "cell_type": "code",
   "execution_count": 8,
   "metadata": {},
   "outputs": [
    {
     "data": {
      "text/html": [
       "<div>\n",
       "<style scoped>\n",
       "    .dataframe tbody tr th:only-of-type {\n",
       "        vertical-align: middle;\n",
       "    }\n",
       "\n",
       "    .dataframe tbody tr th {\n",
       "        vertical-align: top;\n",
       "    }\n",
       "\n",
       "    .dataframe thead th {\n",
       "        text-align: right;\n",
       "    }\n",
       "</style>\n",
       "<table border=\"1\" class=\"dataframe\">\n",
       "  <thead>\n",
       "    <tr style=\"text-align: right;\">\n",
       "      <th></th>\n",
       "      <th>Links</th>\n",
       "      <th>Name</th>\n",
       "      <th>Price</th>\n",
       "      <th>Location</th>\n",
       "      <th>Mileage</th>\n",
       "      <th>Transmission</th>\n",
       "      <th>Exterior Colour</th>\n",
       "      <th>Engine</th>\n",
       "      <th>Drivetrain</th>\n",
       "      <th>Fuel Type</th>\n",
       "      <th>Major Options</th>\n",
       "    </tr>\n",
       "  </thead>\n",
       "  <tbody>\n",
       "    <tr>\n",
       "      <th>count</th>\n",
       "      <td>3072</td>\n",
       "      <td>3040</td>\n",
       "      <td>3068</td>\n",
       "      <td>2978</td>\n",
       "      <td>3070</td>\n",
       "      <td>3014</td>\n",
       "      <td>2805</td>\n",
       "      <td>2424</td>\n",
       "      <td>2239</td>\n",
       "      <td>2460</td>\n",
       "      <td>2470</td>\n",
       "    </tr>\n",
       "    <tr>\n",
       "      <th>unique</th>\n",
       "      <td>2671</td>\n",
       "      <td>2464</td>\n",
       "      <td>1466</td>\n",
       "      <td>95</td>\n",
       "      <td>2352</td>\n",
       "      <td>20</td>\n",
       "      <td>395</td>\n",
       "      <td>441</td>\n",
       "      <td>5</td>\n",
       "      <td>6</td>\n",
       "      <td>1061</td>\n",
       "    </tr>\n",
       "    <tr>\n",
       "      <th>top</th>\n",
       "      <td>ViewedSave this listing2002 Toyota Sienna CE$3...</td>\n",
       "      <td>2002 Toyota Sienna CE - $3,990</td>\n",
       "      <td>$5,900</td>\n",
       "      <td>Richmond, BC\\n8 km away</td>\n",
       "      <td>201,000 kilometres</td>\n",
       "      <td>Automatic</td>\n",
       "      <td>White</td>\n",
       "      <td>395 hp 5.7L V8</td>\n",
       "      <td>All-Wheel Drive</td>\n",
       "      <td>Gasoline</td>\n",
       "      <td>Alloy Wheels</td>\n",
       "    </tr>\n",
       "    <tr>\n",
       "      <th>freq</th>\n",
       "      <td>21</td>\n",
       "      <td>30</td>\n",
       "      <td>35</td>\n",
       "      <td>181</td>\n",
       "      <td>31</td>\n",
       "      <td>2262</td>\n",
       "      <td>527</td>\n",
       "      <td>123</td>\n",
       "      <td>724</td>\n",
       "      <td>2153</td>\n",
       "      <td>75</td>\n",
       "    </tr>\n",
       "  </tbody>\n",
       "</table>\n",
       "</div>"
      ],
      "text/plain": [
       "                                                    Links  \\\n",
       "count                                                3072   \n",
       "unique                                               2671   \n",
       "top     ViewedSave this listing2002 Toyota Sienna CE$3...   \n",
       "freq                                                   21   \n",
       "\n",
       "                                  Name   Price                 Location  \\\n",
       "count                             3040    3068                     2978   \n",
       "unique                            2464    1466                       95   \n",
       "top     2002 Toyota Sienna CE - $3,990  $5,900  Richmond, BC\\n8 km away   \n",
       "freq                                30      35                      181   \n",
       "\n",
       "                   Mileage Transmission Exterior Colour          Engine  \\\n",
       "count                 3070         3014            2805            2424   \n",
       "unique                2352           20             395             441   \n",
       "top     201,000 kilometres    Automatic           White  395 hp 5.7L V8   \n",
       "freq                    31         2262             527             123   \n",
       "\n",
       "             Drivetrain Fuel Type Major Options  \n",
       "count              2239      2460          2470  \n",
       "unique                5         6          1061  \n",
       "top     All-Wheel Drive  Gasoline  Alloy Wheels  \n",
       "freq                724      2153            75  "
      ]
     },
     "execution_count": 8,
     "metadata": {},
     "output_type": "execute_result"
    }
   ],
   "source": [
    "df.describe()"
   ]
  },
  {
   "cell_type": "code",
   "execution_count": null,
   "metadata": {},
   "outputs": [],
   "source": []
  },
  {
   "cell_type": "code",
   "execution_count": null,
   "metadata": {},
   "outputs": [],
   "source": []
  },
  {
   "cell_type": "code",
   "execution_count": null,
   "metadata": {},
   "outputs": [],
   "source": []
  },
  {
   "cell_type": "code",
   "execution_count": null,
   "metadata": {},
   "outputs": [],
   "source": []
  },
  {
   "cell_type": "code",
   "execution_count": 22,
   "metadata": {},
   "outputs": [],
   "source": [
    "###########################################################"
   ]
  },
  {
   "cell_type": "code",
   "execution_count": 23,
   "metadata": {},
   "outputs": [],
   "source": [
    "#df['Major Options'] =df['Major Options'].apply(lambda x: str(x).split(',')) if x!= -1 else x)"
   ]
  },
  {
   "cell_type": "code",
   "execution_count": null,
   "metadata": {},
   "outputs": [],
   "source": []
  },
  {
   "cell_type": "code",
   "execution_count": 24,
   "metadata": {},
   "outputs": [
    {
     "data": {
      "text/plain": [
       "\"Save this listing2018 Mazda CX-5 GS AWD$26,490 ·$511/mo est.**Estimated payments are for informational purposes only and do not represent a financing offer or guarantee of credit from the seller or from CarGurus. Estimated payments are calculated based on the Dealer's Price and may or may not include freight, fees, license, insurance, registration and taxes. Dealer rates may differ. Monthly Estimate based on a 4.4% APR for 60 months, $26,490 vehicle price, $0 down payment, $0 trade-in, $0 sales tax.99,118 kmRichmond, BC (10 km)GOOD DEAL$1,720 below market(604) 200-2879Request Info\""
      ]
     },
     "execution_count": 24,
     "metadata": {},
     "output_type": "execute_result"
    }
   ],
   "source": [
    "df['Links'][3067]"
   ]
  },
  {
   "cell_type": "code",
   "execution_count": 25,
   "metadata": {},
   "outputs": [],
   "source": [
    "#df['Engine-L'] = df['Engine'].str.extract('([0-9]+\\\\.*[0-9]*L)', expand=False).str.strip()"
   ]
  },
  {
   "cell_type": "code",
   "execution_count": 26,
   "metadata": {},
   "outputs": [
    {
     "data": {
      "text/plain": [
       "\"Image Not AvailableSave this listing2019 Nissan Pathfinder SL 4WD$40,691 ·$785/mo est.**Estimated payments are for informational purposes only and do not represent a financing offer or guarantee of credit from the seller or from CarGurus. Estimated payments are calculated based on the Dealer's Price and may or may not include freight, fees, license, insurance, registration and taxes. Dealer rates may differ. Monthly Estimate based on a 4.4% APR for 60 months, $40,691 vehicle price, $0 down payment, $0 trade-in, $0 sales tax.31,371 kmNanaimo, BC (72 km)GREAT DEAL$3,530 below marketRequest Info\""
      ]
     },
     "execution_count": 26,
     "metadata": {},
     "output_type": "execute_result"
    }
   ],
   "source": [
    "df['Links'][889]\n",
    "#df['Engine-hp'] = df['Engine'].str.extract('([0-9]+\\shp)', expand=False).str.strip()"
   ]
  },
  {
   "cell_type": "code",
   "execution_count": 27,
   "metadata": {},
   "outputs": [],
   "source": [
    "# df['Car-Type'] = df['Links'].str.extract(r'([0-9]\\s[a-zA-Z0-9\\s.-\\\\]+[$][0-9])', expand=False).str.strip()\n",
    "#df['Tutle'] = df['Engine'].str.extract('([V|I]+[\\d]+)', expand=False)"
   ]
  },
  {
   "cell_type": "code",
   "execution_count": 28,
   "metadata": {},
   "outputs": [],
   "source": [
    "df['Car-Type'] = df['Links'].str.extract(r'(?:20[0-9][0-9]\\s)([a-zA-Z0-9\\s-]+)(?:\\$[0-9][0-9]?\\,)', expand=False)"
   ]
  },
  {
   "cell_type": "code",
   "execution_count": 29,
   "metadata": {},
   "outputs": [],
   "source": [
    "# df['Car-Type'] = df['Links'].str.extract(r'(20[0-9]{2}\\s)([a-zA-Z0-9\\s.\\\\-])+(\\$[0-9][0-9]?,)', expand=False).str.strip()\n",
    "#(20[0-9]{2}\\s)([a-zA-Z0-9\\s.\\\\-])+(\\$[0-9][0-9]?,)"
   ]
  },
  {
   "cell_type": "code",
   "execution_count": 31,
   "metadata": {},
   "outputs": [
    {
     "data": {
      "text/plain": [
       "'Jeep Wrangler Sahara'"
      ]
     },
     "execution_count": 31,
     "metadata": {},
     "output_type": "execute_result"
    }
   ],
   "source": [
    "df['Car-Type'][1656]"
   ]
  },
  {
   "cell_type": "code",
   "execution_count": 30,
   "metadata": {},
   "outputs": [
    {
     "data": {
      "text/plain": [
       "\"Save this listing2013 Jeep Wrangler Sahara$21,898 ·$423/mo est.**Estimated payments are for informational purposes only and do not represent a financing offer or guarantee of credit from the seller or from CarGurus. Estimated payments are calculated based on the Dealer's Price and may or may not include freight, fees, license, insurance, registration and taxes. Dealer rates may differ. Monthly Estimate based on a 4.4% APR for 60 months, $21,898 vehicle price, $0 down payment, $0 trade-in, $0 sales tax.186,000 kmMaple Ridge, BC (29 km)GOOD DEAL$2,933 below market(604) 239-1718Request Info\""
      ]
     },
     "execution_count": 30,
     "metadata": {},
     "output_type": "execute_result"
    }
   ],
   "source": [
    "df['Links'][1656]"
   ]
  },
  {
   "cell_type": "code",
   "execution_count": 32,
   "metadata": {},
   "outputs": [
    {
     "data": {
      "text/html": [
       "<div>\n",
       "<style scoped>\n",
       "    .dataframe tbody tr th:only-of-type {\n",
       "        vertical-align: middle;\n",
       "    }\n",
       "\n",
       "    .dataframe tbody tr th {\n",
       "        vertical-align: top;\n",
       "    }\n",
       "\n",
       "    .dataframe thead th {\n",
       "        text-align: right;\n",
       "    }\n",
       "</style>\n",
       "<table border=\"1\" class=\"dataframe\">\n",
       "  <thead>\n",
       "    <tr style=\"text-align: right;\">\n",
       "      <th></th>\n",
       "      <th>Links</th>\n",
       "      <th>Name</th>\n",
       "      <th>Price</th>\n",
       "      <th>Location</th>\n",
       "      <th>Mileage</th>\n",
       "      <th>Transmission</th>\n",
       "      <th>Exterior Colour</th>\n",
       "      <th>Engine</th>\n",
       "      <th>Drivetrain</th>\n",
       "      <th>Fuel Type</th>\n",
       "      <th>Major Options</th>\n",
       "      <th>Car-Type</th>\n",
       "    </tr>\n",
       "  </thead>\n",
       "  <tbody>\n",
       "    <tr>\n",
       "      <th>2683</th>\n",
       "      <td>Save this listing2018 Toyota Tacoma TRD Sport ...</td>\n",
       "      <td>2018 Toyota Tacoma TRD Sport Double Cab LB 4WD...</td>\n",
       "      <td>$40,297</td>\n",
       "      <td>Langley, BC\\n29 km away</td>\n",
       "      <td>126,227 kilometres</td>\n",
       "      <td>Automatic</td>\n",
       "      <td>Gray (Magnetic Grey Metallic)</td>\n",
       "      <td>278 hp 3.5L V6</td>\n",
       "      <td>Four-Wheel Drive</td>\n",
       "      <td>Gasoline</td>\n",
       "      <td>Navigation System, Adaptive Cruise Control, Al...</td>\n",
       "      <td>Toyota Tacoma TRD Sport Double Cab LB 4WD</td>\n",
       "    </tr>\n",
       "    <tr>\n",
       "      <th>3006</th>\n",
       "      <td>Save this listing2018 Toyota Tacoma TRD Sport ...</td>\n",
       "      <td>2018 Toyota Tacoma TRD Sport Double Cab LB 4WD...</td>\n",
       "      <td>$44,990</td>\n",
       "      <td>Vancouver, BC\\n10 km away</td>\n",
       "      <td>76,179 kilometres</td>\n",
       "      <td>6-Speed Automatic Overdrive</td>\n",
       "      <td>Gray (Magnetic Grey)</td>\n",
       "      <td>278 hp 3.5L V6</td>\n",
       "      <td>Four-Wheel Drive</td>\n",
       "      <td>Gasoline</td>\n",
       "      <td>Sport Package, TRD Package, Navigation System,...</td>\n",
       "      <td>Toyota Tacoma TRD Sport Double Cab LB 4WD</td>\n",
       "    </tr>\n",
       "  </tbody>\n",
       "</table>\n",
       "</div>"
      ],
      "text/plain": [
       "                                                  Links  \\\n",
       "2683  Save this listing2018 Toyota Tacoma TRD Sport ...   \n",
       "3006  Save this listing2018 Toyota Tacoma TRD Sport ...   \n",
       "\n",
       "                                                   Name    Price  \\\n",
       "2683  2018 Toyota Tacoma TRD Sport Double Cab LB 4WD...  $40,297   \n",
       "3006  2018 Toyota Tacoma TRD Sport Double Cab LB 4WD...  $44,990   \n",
       "\n",
       "                       Location             Mileage  \\\n",
       "2683    Langley, BC\\n29 km away  126,227 kilometres   \n",
       "3006  Vancouver, BC\\n10 km away   76,179 kilometres   \n",
       "\n",
       "                     Transmission                Exterior Colour  \\\n",
       "2683                    Automatic  Gray (Magnetic Grey Metallic)   \n",
       "3006  6-Speed Automatic Overdrive           Gray (Magnetic Grey)   \n",
       "\n",
       "              Engine        Drivetrain Fuel Type  \\\n",
       "2683  278 hp 3.5L V6  Four-Wheel Drive  Gasoline   \n",
       "3006  278 hp 3.5L V6  Four-Wheel Drive  Gasoline   \n",
       "\n",
       "                                          Major Options  \\\n",
       "2683  Navigation System, Adaptive Cruise Control, Al...   \n",
       "3006  Sport Package, TRD Package, Navigation System,...   \n",
       "\n",
       "                                       Car-Type  \n",
       "2683  Toyota Tacoma TRD Sport Double Cab LB 4WD  \n",
       "3006  Toyota Tacoma TRD Sport Double Cab LB 4WD  "
      ]
     },
     "execution_count": 32,
     "metadata": {},
     "output_type": "execute_result"
    }
   ],
   "source": [
    "df[df['Car-Type'] == 'Toyota Tacoma TRD Sport Double Cab LB 4WD']"
   ]
  },
  {
   "cell_type": "code",
   "execution_count": 33,
   "metadata": {
    "scrolled": true
   },
   "outputs": [
    {
     "data": {
      "text/plain": [
       "Mazda MAZDA3 Premium Hatchback AWD                       2\n",
       "Cadillac Escalade 4WD                                    1\n",
       "Toyota Tacoma                                           10\n",
       "RAM 1500 Classic Warlock Quad Cab 4WD                    8\n",
       "Jeep Grand Cherokee L Overland 4WD                       1\n",
       "Ford Explorer XLT AWD                                    1\n",
       "Volkswagen Golf R 4-Door AWD with DCC and Navigation     1\n",
       "Subaru XV Crosstrek Touring AWD                          1\n",
       "Chevrolet City Express LT FWD                            1\n",
       "BMW X5 sDrive35i RWD                                     1\n",
       "MINI Countryman Cooper S ALL4 AWD                        1\n",
       "Toyota Camry                                             3\n",
       "Land Rover Discovery Td6 HSE Luxury AWD                  1\n",
       "RAM 1500 Classic Express Quad Cab 4WD                    2\n",
       "Toyota Tacoma TRD Sport Double Cab LB 4WD                2\n",
       "RAM 1500 Limited Crew Cab LB 4WD                         1\n",
       "Tesla Model X 90D AWD                                    1\n",
       "Volvo XC40 T5 R-Design AWD                               1\n",
       "Subaru WRX STI FWD                                       1\n",
       "Mazda CX-9 Grand Touring AWD                             1\n",
       "Mercedes-Benz E-Class E 550 Coupe                        1\n",
       "Jeep Compass X High Altitude 4WD                         1\n",
       "smart fortwo passion                                     3\n",
       "Toyota Sienna CE                                        30\n",
       "GMC Acadia SLE AWD                                       1\n",
       "RAM 1500 Classic Warlock Crew Cab 4WD                    4\n",
       "Acura RDX SH-AWD with A-Spec Package                     1\n",
       "Mazda CX-9 Signature AWD                                 2\n",
       "Lexus NX 200t                                            1\n",
       "Ford F-150 FX4 SuperCrew 4WD                             1\n",
       "Nissan Pathfinder                                        3\n",
       "BMW X5 xDrive40i AWD                                    13\n",
       "Lincoln MKT EcoBoost AWD                                 1\n",
       "BMW X7 xDrive40i AWD                                     1\n",
       "Land Rover Range Rover V8 Supercharged 4WD               1\n",
       "Ford Focus SE                                            3\n",
       "Audi RS 5 quattro Cabriolet AWD                          1\n",
       "Acura TLX FWD with Elite Package                         1\n",
       "Ford F-350 Super Duty King Ranch Crew Cab 4WD            1\n",
       "Ford F-150 Lariat SuperCrew 4WD                          5\n",
       "Lexus IS 350 AWD                                         2\n",
       "Jeep Wrangler Unlimited Sport 4WD 4WD                    1\n",
       "Mercedes-Benz CLS-Class CLS AMG 53 S 4MATIC AWD          1\n",
       "Volkswagen Passat                                        2\n",
       "Acura MDX SH-AWD with Technology Package                 1\n",
       "Mercedes-Benz C-Class C AMG 43 4MATIC AWD                1\n",
       "Ford Bronco Wildtrak Advanced 4-Door 4WD                 1\n",
       "Toyota RAV4 AWD                                          1\n",
       "Nissan Maxima SL FWD                                     2\n",
       "Jaguar F-PACE 25t Premium AWD                            1\n",
       "Name: Car-Type, dtype: int64"
      ]
     },
     "execution_count": 33,
     "metadata": {},
     "output_type": "execute_result"
    }
   ],
   "source": [
    "df['Car-Type'].value_counts().sample(50)"
   ]
  },
  {
   "cell_type": "code",
   "execution_count": 34,
   "metadata": {},
   "outputs": [
    {
     "data": {
      "text/plain": [
       "Series([], Name: Links, dtype: object)"
      ]
     },
     "execution_count": 34,
     "metadata": {},
     "output_type": "execute_result"
    }
   ],
   "source": [
    "df[df['Car-Type'] == 'XL LB']['Links']"
   ]
  },
  {
   "cell_type": "code",
   "execution_count": 35,
   "metadata": {},
   "outputs": [
    {
     "data": {
      "text/plain": [
       "Buick Encore Sport Touring AWD                                                           1\n",
       "Mercedes-Benz GLS-Class GLS AMG 63 4MATIC AWD                                            1\n",
       "Jeep Grand Cherokee 80th Anniversary Edition 4WD                                         1\n",
       "RAM 3500 Big Horn Mega Cab 4WD                                                           1\n",
       "Subaru Outback Limited XT Wagon AWD                                                      1\n",
       "Nissan NV200 SV FWD                                                                      1\n",
       "Hyundai Ioniq Hybrid Essential FWD                                                       1\n",
       "Jaguar F-PACE 25t Prestige AWD                                                           1\n",
       "RAM 1500 Classic SLT Crew Cab RWD                                                        1\n",
       "Tesla Model X 75D AWD                                                                    1\n",
       "Volkswagen Tiguan Comfortline AWD                                                        1\n",
       "Mercedes-Benz C-Class C 300 Coupe 4MATIC AWD                                             1\n",
       "Nissan Xterra SV 4WD                                                                     1\n",
       "Honda Civic Type R                                                                       1\n",
       "Volkswagen Jetta TDI Comfortline                                                         1\n",
       "Ford Transit Connect Wagon XLT LWB FWD with Rear Liftgate                                1\n",
       "MINI Cooper S 4-Door Hatchback FWD                                                       1\n",
       "Volvo C30                                                                                1\n",
       "Ford E-Series E-250 Cargo Van                                                            1\n",
       "Nissan Juke NISMO RS                                                                     1\n",
       "Land Rover Range Rover Velar P250 S AWD                                                  1\n",
       "Kia Sportage LX                                                                          1\n",
       "Lexus NX 200t                                                                            1\n",
       "Acura TLX SH-AWD with A-Spec Package                                                     1\n",
       "Mercedes-Benz C-Class C AMG 43 4MATIC Cabriolet                                          1\n",
       "Volkswagen Beetle Trendline                                                              1\n",
       "Maserati Ghibli S Q4 AWD                                                                 1\n",
       "Honda Odyssey EX-L FWD                                                                   1\n",
       "Mercedes-Benz B-Class B 200 T                                                            1\n",
       "Chevrolet Tahoe LS RWD                                                                   1\n",
       "Ford Flex SEL AWD                                                                        1\n",
       "Ford Transit Cargo 250 3dr LWB Medium Roof Cargo Van with Sliding Passenger Side Door    1\n",
       "Buick Encore GX Essence AWD                                                              1\n",
       "Hyundai Elantra GT                                                                       1\n",
       "Chevrolet Silverado 1500 LT Crew Cab LB 4WD                                              1\n",
       "Chevrolet Cruze Limited 1LT FWD                                                          1\n",
       "GMC Canyon All Terrain Crew Cab LB 4WD with Cloth                                        1\n",
       "Jeep Grand Cherokee Summit 4WD                                                           1\n",
       "Acura RDX SH-AWD with A-Spec Package                                                     1\n",
       "GMC Acadia SLE-1 AWD                                                                     1\n",
       "BMW M4 Coupe RWD                                                                         1\n",
       "Ford Explorer Sport 4WD                                                                  1\n",
       "GMC Terrain SLT1 AWD                                                                     1\n",
       "Dodge RAM 3500 Laramie Quad Cab 4WD                                                      1\n",
       "Chevrolet Colorado Work Truck Extended Cab 4WD                                           1\n",
       "Chevrolet Spark 2LT FWD                                                                  1\n",
       "Kia Sorento EX Premium V6 AWD                                                            1\n",
       "Tesla Model Y Long Range AWD                                                             1\n",
       "GMC Yukon Denali 4WD                                                                     1\n",
       "Honda HR-V                                                                               1\n",
       "Name: Car-Type, dtype: int64"
      ]
     },
     "execution_count": 35,
     "metadata": {},
     "output_type": "execute_result"
    }
   ],
   "source": [
    "df['Car-Type'].value_counts().tail(50)"
   ]
  },
  {
   "cell_type": "markdown",
   "metadata": {},
   "source": [
    "Size of data"
   ]
  },
  {
   "cell_type": "code",
   "execution_count": 9,
   "metadata": {},
   "outputs": [
    {
     "data": {
      "text/plain": [
       "(3072, 11)"
      ]
     },
     "execution_count": 9,
     "metadata": {},
     "output_type": "execute_result"
    }
   ],
   "source": [
    "df.shape"
   ]
  },
  {
   "cell_type": "markdown",
   "metadata": {},
   "source": [
    "Finding duplicates"
   ]
  },
  {
   "cell_type": "code",
   "execution_count": 10,
   "metadata": {},
   "outputs": [],
   "source": [
    "# rows where\n",
    "duplicate_df = df[df.duplicated(['Name', 'Mileage', 'Location'])]"
   ]
  },
  {
   "cell_type": "code",
   "execution_count": 11,
   "metadata": {},
   "outputs": [
    {
     "data": {
      "text/html": [
       "<div>\n",
       "<style scoped>\n",
       "    .dataframe tbody tr th:only-of-type {\n",
       "        vertical-align: middle;\n",
       "    }\n",
       "\n",
       "    .dataframe tbody tr th {\n",
       "        vertical-align: top;\n",
       "    }\n",
       "\n",
       "    .dataframe thead th {\n",
       "        text-align: right;\n",
       "    }\n",
       "</style>\n",
       "<table border=\"1\" class=\"dataframe\">\n",
       "  <thead>\n",
       "    <tr style=\"text-align: right;\">\n",
       "      <th></th>\n",
       "      <th>Links</th>\n",
       "      <th>Name</th>\n",
       "      <th>Price</th>\n",
       "      <th>Location</th>\n",
       "      <th>Mileage</th>\n",
       "      <th>Transmission</th>\n",
       "      <th>Exterior Colour</th>\n",
       "      <th>Engine</th>\n",
       "      <th>Drivetrain</th>\n",
       "      <th>Fuel Type</th>\n",
       "      <th>Major Options</th>\n",
       "    </tr>\n",
       "  </thead>\n",
       "  <tbody>\n",
       "    <tr>\n",
       "      <th>485</th>\n",
       "      <td>ViewedSave this listingNew Arrival2015 Nissan ...</td>\n",
       "      <td>2015 Nissan Versa Note SL - $13,800</td>\n",
       "      <td>$13,800</td>\n",
       "      <td>Surrey, BC\\n16 km away</td>\n",
       "      <td>18,352 kilometres</td>\n",
       "      <td>Automatic</td>\n",
       "      <td>Gray (Magnetic Grey)</td>\n",
       "      <td>109 hp 1.6L I4</td>\n",
       "      <td>Front-Wheel Drive</td>\n",
       "      <td>Gasoline</td>\n",
       "      <td>NaN</td>\n",
       "    </tr>\n",
       "    <tr>\n",
       "      <th>487</th>\n",
       "      <td>ViewedSave this listingNew Arrival2016 Jeep Pa...</td>\n",
       "      <td>2016 Jeep Patriot North Edition 4WD - $13,999</td>\n",
       "      <td>$13,999</td>\n",
       "      <td>Surrey, BC\\n16 km away</td>\n",
       "      <td>122,894 kilometres</td>\n",
       "      <td>6-Speed Automatic</td>\n",
       "      <td>NaN</td>\n",
       "      <td>NaN</td>\n",
       "      <td>NaN</td>\n",
       "      <td>NaN</td>\n",
       "      <td>Leather Seats, Sunroof/Moonroof, Navigation Sy...</td>\n",
       "    </tr>\n",
       "    <tr>\n",
       "      <th>488</th>\n",
       "      <td>ViewedSave this listing2018 Subaru Outback 3.6...</td>\n",
       "      <td>2018 Subaru Outback 3.6R Premier AWD with EyeS...</td>\n",
       "      <td>$32,900</td>\n",
       "      <td>North Vancouver, BC\\n13 km away</td>\n",
       "      <td>37,562 kilometres</td>\n",
       "      <td>Continuously Variable Transmission</td>\n",
       "      <td>Silver</td>\n",
       "      <td>NaN</td>\n",
       "      <td>NaN</td>\n",
       "      <td>NaN</td>\n",
       "      <td>NaN</td>\n",
       "    </tr>\n",
       "    <tr>\n",
       "      <th>490</th>\n",
       "      <td>ViewedSave this listing2021 Honda Accord Sport...</td>\n",
       "      <td>2021 Honda Accord Sport FWD - $33,990</td>\n",
       "      <td>$33,990</td>\n",
       "      <td>Victoria, BC\\n91 km away</td>\n",
       "      <td>3,311 kilometres</td>\n",
       "      <td>Continuously Variable Transmission</td>\n",
       "      <td>Gray (Sonic Grey Pearl)</td>\n",
       "      <td>192 hp 1.5L I4</td>\n",
       "      <td>Front-Wheel Drive</td>\n",
       "      <td>Gasoline</td>\n",
       "      <td>NaN</td>\n",
       "    </tr>\n",
       "    <tr>\n",
       "      <th>508</th>\n",
       "      <td>ViewedSave this listing2018 BMW M4 Convertible...</td>\n",
       "      <td>2018 BMW M4 Convertible RWD - $76,900</td>\n",
       "      <td>$76,900</td>\n",
       "      <td>North Vancouver, BC\\n12 km away</td>\n",
       "      <td>38,682 kilometres</td>\n",
       "      <td>Automatic</td>\n",
       "      <td>Black Sapphire Met</td>\n",
       "      <td>425 hp 3L I6</td>\n",
       "      <td>Rear-Wheel Drive</td>\n",
       "      <td>Gasoline</td>\n",
       "      <td>Leather Seats, Driver Assistance Package, Exec...</td>\n",
       "    </tr>\n",
       "  </tbody>\n",
       "</table>\n",
       "</div>"
      ],
      "text/plain": [
       "                                                 Links  \\\n",
       "485  ViewedSave this listingNew Arrival2015 Nissan ...   \n",
       "487  ViewedSave this listingNew Arrival2016 Jeep Pa...   \n",
       "488  ViewedSave this listing2018 Subaru Outback 3.6...   \n",
       "490  ViewedSave this listing2021 Honda Accord Sport...   \n",
       "508  ViewedSave this listing2018 BMW M4 Convertible...   \n",
       "\n",
       "                                                  Name    Price  \\\n",
       "485                2015 Nissan Versa Note SL - $13,800  $13,800   \n",
       "487      2016 Jeep Patriot North Edition 4WD - $13,999  $13,999   \n",
       "488  2018 Subaru Outback 3.6R Premier AWD with EyeS...  $32,900   \n",
       "490              2021 Honda Accord Sport FWD - $33,990  $33,990   \n",
       "508              2018 BMW M4 Convertible RWD - $76,900  $76,900   \n",
       "\n",
       "                            Location             Mileage  \\\n",
       "485           Surrey, BC\\n16 km away   18,352 kilometres   \n",
       "487           Surrey, BC\\n16 km away  122,894 kilometres   \n",
       "488  North Vancouver, BC\\n13 km away   37,562 kilometres   \n",
       "490         Victoria, BC\\n91 km away    3,311 kilometres   \n",
       "508  North Vancouver, BC\\n12 km away   38,682 kilometres   \n",
       "\n",
       "                           Transmission          Exterior Colour  \\\n",
       "485                           Automatic     Gray (Magnetic Grey)   \n",
       "487                   6-Speed Automatic                      NaN   \n",
       "488  Continuously Variable Transmission                   Silver   \n",
       "490  Continuously Variable Transmission  Gray (Sonic Grey Pearl)   \n",
       "508                           Automatic       Black Sapphire Met   \n",
       "\n",
       "             Engine         Drivetrain Fuel Type  \\\n",
       "485  109 hp 1.6L I4  Front-Wheel Drive  Gasoline   \n",
       "487             NaN                NaN       NaN   \n",
       "488             NaN                NaN       NaN   \n",
       "490  192 hp 1.5L I4  Front-Wheel Drive  Gasoline   \n",
       "508    425 hp 3L I6   Rear-Wheel Drive  Gasoline   \n",
       "\n",
       "                                         Major Options  \n",
       "485                                                NaN  \n",
       "487  Leather Seats, Sunroof/Moonroof, Navigation Sy...  \n",
       "488                                                NaN  \n",
       "490                                                NaN  \n",
       "508  Leather Seats, Driver Assistance Package, Exec...  "
      ]
     },
     "execution_count": 11,
     "metadata": {},
     "output_type": "execute_result"
    }
   ],
   "source": [
    "duplicate_df.head()"
   ]
  },
  {
   "cell_type": "markdown",
   "metadata": {},
   "source": [
    "There are 537 duplicate rows which requires to be removed in order for us to use the data for analysis"
   ]
  },
  {
   "cell_type": "code",
   "execution_count": 12,
   "metadata": {},
   "outputs": [],
   "source": [
    "#dropping duplicates from dataframe\n",
    "df = df.drop_duplicates(subset=['Name', 'Mileage', 'Location']).reset_index(drop = True)"
   ]
  },
  {
   "cell_type": "markdown",
   "metadata": {},
   "source": [
    "Rechecking if there are any duplicates remaining"
   ]
  },
  {
   "cell_type": "code",
   "execution_count": 13,
   "metadata": {},
   "outputs": [
    {
     "data": {
      "text/plain": [
       "0"
      ]
     },
     "execution_count": 13,
     "metadata": {},
     "output_type": "execute_result"
    }
   ],
   "source": [
    "duplicate_df = df[df.duplicated(['Name', 'Mileage', 'Location'])]\n",
    "len(duplicate_df)"
   ]
  },
  {
   "cell_type": "markdown",
   "metadata": {},
   "source": [
    "### Cleaning dataframe"
   ]
  },
  {
   "cell_type": "code",
   "execution_count": 14,
   "metadata": {},
   "outputs": [
    {
     "data": {
      "text/plain": [
       "Links                0\n",
       "Name                31\n",
       "Price                3\n",
       "Location            89\n",
       "Mileage              1\n",
       "Transmission        57\n",
       "Exterior Colour    239\n",
       "Engine             562\n",
       "Drivetrain         699\n",
       "Fuel Type          527\n",
       "Major Options      411\n",
       "dtype: int64"
      ]
     },
     "execution_count": 14,
     "metadata": {},
     "output_type": "execute_result"
    }
   ],
   "source": [
    "df.isnull().sum()"
   ]
  },
  {
   "cell_type": "markdown",
   "metadata": {},
   "source": [
    "There are large number of columns which have null value, hence we need to see if we can fill them with mean, mode or median value. Else we will be dropping the column entirely"
   ]
  },
  {
   "cell_type": "code",
   "execution_count": 36,
   "metadata": {},
   "outputs": [],
   "source": [
    "#df['Location'] = df['Location'].apply(lambda x: x.split(',')[0] if pd.notnull(x) else x)"
   ]
  },
  {
   "cell_type": "code",
   "execution_count": 37,
   "metadata": {},
   "outputs": [],
   "source": [
    "###########################################################"
   ]
  },
  {
   "cell_type": "code",
   "execution_count": 15,
   "metadata": {},
   "outputs": [],
   "source": [
    "#drop rows with no Name\n",
    "df = df[df['Name'].notna()]"
   ]
  },
  {
   "cell_type": "markdown",
   "metadata": {},
   "source": [
    "At this portion of the cleaning, I will clean the Name column "
   ]
  },
  {
   "cell_type": "code",
   "execution_count": 16,
   "metadata": {},
   "outputs": [
    {
     "data": {
      "text/plain": [
       "'2017 Volkswagen Golf 1.8T Comfortline 4-Door FWD - $15,990'"
      ]
     },
     "execution_count": 16,
     "metadata": {},
     "output_type": "execute_result"
    }
   ],
   "source": [
    "df['Name'][0]"
   ]
  },
  {
   "cell_type": "code",
   "execution_count": 17,
   "metadata": {},
   "outputs": [],
   "source": [
    "df['year'] = df['Name'].apply(lambda x: int(x.split(' ')[0]))"
   ]
  },
  {
   "cell_type": "code",
   "execution_count": 18,
   "metadata": {},
   "outputs": [],
   "source": [
    "df['Title'] = df['Name'].apply(lambda x: x.split(' '))"
   ]
  },
  {
   "cell_type": "code",
   "execution_count": 19,
   "metadata": {},
   "outputs": [
    {
     "data": {
      "text/plain": [
       "['Volkswagen', 'Golf', '1.8T', 'Comfortline', '4-Door', 'FWD']"
      ]
     },
     "execution_count": 19,
     "metadata": {},
     "output_type": "execute_result"
    }
   ],
   "source": [
    "df['Title'][0][1:-2]"
   ]
  },
  {
   "cell_type": "code",
   "execution_count": 20,
   "metadata": {},
   "outputs": [],
   "source": [
    "def Name2Title(x):\n",
    "    y = x[1:-2]\n",
    "    str1 = ' '\n",
    "    \n",
    "    return ' '.join(y)"
   ]
  },
  {
   "cell_type": "code",
   "execution_count": 21,
   "metadata": {},
   "outputs": [],
   "source": [
    "df['Title'] = df['Title'].apply(lambda x: Name2Title(x))"
   ]
  },
  {
   "cell_type": "code",
   "execution_count": 22,
   "metadata": {},
   "outputs": [
    {
     "data": {
      "text/plain": [
       "'Acura RDX SH-AWD with Platinum Elite Package'"
      ]
     },
     "execution_count": 22,
     "metadata": {},
     "output_type": "execute_result"
    }
   ],
   "source": [
    "df['Title'][546]"
   ]
  },
  {
   "cell_type": "code",
   "execution_count": 23,
   "metadata": {},
   "outputs": [],
   "source": [
    "df['Brand'] = df['Title'].apply(lambda x: x.split(' ', 1)[0])"
   ]
  },
  {
   "cell_type": "markdown",
   "metadata": {},
   "source": [
    "For the column Price remove '$' and convert to int"
   ]
  },
  {
   "cell_type": "code",
   "execution_count": 24,
   "metadata": {},
   "outputs": [],
   "source": [
    "df['Price'] = df['Price'].apply(lambda x: int(x.replace('$', '').replace(',', '')))"
   ]
  },
  {
   "cell_type": "code",
   "execution_count": 25,
   "metadata": {},
   "outputs": [
    {
     "data": {
      "text/plain": [
       "0    15990\n",
       "1    38900\n",
       "2    28900\n",
       "3    11980\n",
       "4    16888\n",
       "Name: Price, dtype: int64"
      ]
     },
     "execution_count": 25,
     "metadata": {},
     "output_type": "execute_result"
    }
   ],
   "source": [
    "df['Price'].head()"
   ]
  },
  {
   "cell_type": "markdown",
   "metadata": {},
   "source": [
    "For the column Location just keep the City Name"
   ]
  },
  {
   "cell_type": "code",
   "execution_count": 26,
   "metadata": {},
   "outputs": [
    {
     "data": {
      "text/plain": [
       "0       New Westminster\n",
       "1       New Westminster\n",
       "2        Port Coquitlam\n",
       "3               Burnaby\n",
       "4              Victoria\n",
       "             ...       \n",
       "2530                NaN\n",
       "2531           Victoria\n",
       "2532        Maple Ridge\n",
       "2533         Abbotsford\n",
       "2534          Vancouver\n",
       "Name: Location, Length: 2504, dtype: object"
      ]
     },
     "execution_count": 26,
     "metadata": {},
     "output_type": "execute_result"
    }
   ],
   "source": [
    "df['Location'] = df['Location'].apply(lambda x: x.split(',')[0] if pd.notnull(x) else x)\n",
    "df['Location']"
   ]
  },
  {
   "cell_type": "code",
   "execution_count": 27,
   "metadata": {},
   "outputs": [
    {
     "data": {
      "text/html": [
       "<div>\n",
       "<style scoped>\n",
       "    .dataframe tbody tr th:only-of-type {\n",
       "        vertical-align: middle;\n",
       "    }\n",
       "\n",
       "    .dataframe tbody tr th {\n",
       "        vertical-align: top;\n",
       "    }\n",
       "\n",
       "    .dataframe thead th {\n",
       "        text-align: right;\n",
       "    }\n",
       "</style>\n",
       "<table border=\"1\" class=\"dataframe\">\n",
       "  <thead>\n",
       "    <tr style=\"text-align: right;\">\n",
       "      <th></th>\n",
       "      <th>Links</th>\n",
       "      <th>Name</th>\n",
       "      <th>Price</th>\n",
       "      <th>Location</th>\n",
       "      <th>Mileage</th>\n",
       "      <th>Transmission</th>\n",
       "      <th>Exterior Colour</th>\n",
       "      <th>Engine</th>\n",
       "      <th>Drivetrain</th>\n",
       "      <th>Fuel Type</th>\n",
       "      <th>Major Options</th>\n",
       "      <th>year</th>\n",
       "      <th>Title</th>\n",
       "      <th>Brand</th>\n",
       "    </tr>\n",
       "  </thead>\n",
       "  <tbody>\n",
       "    <tr>\n",
       "      <th>0</th>\n",
       "      <td>ViewedSave this listing2017 Volkswagen Golf 1....</td>\n",
       "      <td>2017 Volkswagen Golf 1.8T Comfortline 4-Door F...</td>\n",
       "      <td>15990</td>\n",
       "      <td>New Westminster</td>\n",
       "      <td>83,000 kilometres</td>\n",
       "      <td>Automatic</td>\n",
       "      <td>White</td>\n",
       "      <td>NaN</td>\n",
       "      <td>NaN</td>\n",
       "      <td>NaN</td>\n",
       "      <td>Bluetooth, Backup Camera, Heated Seats, CarPlay</td>\n",
       "      <td>2017</td>\n",
       "      <td>Volkswagen Golf 1.8T Comfortline 4-Door FWD</td>\n",
       "      <td>Volkswagen</td>\n",
       "    </tr>\n",
       "    <tr>\n",
       "      <th>1</th>\n",
       "      <td>ViewedSave this listing2019 RAM 1500 Classic T...</td>\n",
       "      <td>2019 RAM 1500 Classic Tradesman Crew Cab 4WD -...</td>\n",
       "      <td>38900</td>\n",
       "      <td>New Westminster</td>\n",
       "      <td>26,000 kilometres</td>\n",
       "      <td>Automatic</td>\n",
       "      <td>Blue</td>\n",
       "      <td>305 hp 3.6L V6 Flex Fuel Vehicle</td>\n",
       "      <td>Four-Wheel Drive</td>\n",
       "      <td>Flex Fuel Vehicle</td>\n",
       "      <td>Alloy Wheels, Bluetooth, Backup Camera, Remote...</td>\n",
       "      <td>2019</td>\n",
       "      <td>RAM 1500 Classic Tradesman Crew Cab 4WD</td>\n",
       "      <td>RAM</td>\n",
       "    </tr>\n",
       "  </tbody>\n",
       "</table>\n",
       "</div>"
      ],
      "text/plain": [
       "                                               Links  \\\n",
       "0  ViewedSave this listing2017 Volkswagen Golf 1....   \n",
       "1  ViewedSave this listing2019 RAM 1500 Classic T...   \n",
       "\n",
       "                                                Name  Price         Location  \\\n",
       "0  2017 Volkswagen Golf 1.8T Comfortline 4-Door F...  15990  New Westminster   \n",
       "1  2019 RAM 1500 Classic Tradesman Crew Cab 4WD -...  38900  New Westminster   \n",
       "\n",
       "             Mileage Transmission Exterior Colour  \\\n",
       "0  83,000 kilometres    Automatic           White   \n",
       "1  26,000 kilometres    Automatic            Blue   \n",
       "\n",
       "                             Engine        Drivetrain          Fuel Type  \\\n",
       "0                               NaN               NaN                NaN   \n",
       "1  305 hp 3.6L V6 Flex Fuel Vehicle  Four-Wheel Drive  Flex Fuel Vehicle   \n",
       "\n",
       "                                       Major Options  year  \\\n",
       "0    Bluetooth, Backup Camera, Heated Seats, CarPlay  2017   \n",
       "1  Alloy Wheels, Bluetooth, Backup Camera, Remote...  2019   \n",
       "\n",
       "                                         Title       Brand  \n",
       "0  Volkswagen Golf 1.8T Comfortline 4-Door FWD  Volkswagen  \n",
       "1      RAM 1500 Classic Tradesman Crew Cab 4WD         RAM  "
      ]
     },
     "execution_count": 27,
     "metadata": {},
     "output_type": "execute_result"
    }
   ],
   "source": [
    "df.head(2)"
   ]
  },
  {
   "cell_type": "markdown",
   "metadata": {},
   "source": [
    "Remove 'kilometers' from the string"
   ]
  },
  {
   "cell_type": "code",
   "execution_count": 28,
   "metadata": {},
   "outputs": [],
   "source": [
    "df['Mileage'] = df['Mileage'].apply(lambda x: x.replace(',', ''))"
   ]
  },
  {
   "cell_type": "code",
   "execution_count": 29,
   "metadata": {},
   "outputs": [],
   "source": [
    "df['Mileage'] = df['Mileage'].apply(lambda x: int(x.split(' ', 1)[0]))"
   ]
  },
  {
   "cell_type": "code",
   "execution_count": 30,
   "metadata": {},
   "outputs": [
    {
     "data": {
      "text/plain": [
       "0     83000\n",
       "1     26000\n",
       "2     49000\n",
       "3    216288\n",
       "4    144718\n",
       "Name: Mileage, dtype: int64"
      ]
     },
     "execution_count": 30,
     "metadata": {},
     "output_type": "execute_result"
    }
   ],
   "source": [
    "df['Mileage'].head()"
   ]
  },
  {
   "cell_type": "code",
   "execution_count": 31,
   "metadata": {},
   "outputs": [
    {
     "data": {
      "text/html": [
       "<div>\n",
       "<style scoped>\n",
       "    .dataframe tbody tr th:only-of-type {\n",
       "        vertical-align: middle;\n",
       "    }\n",
       "\n",
       "    .dataframe tbody tr th {\n",
       "        vertical-align: top;\n",
       "    }\n",
       "\n",
       "    .dataframe thead th {\n",
       "        text-align: right;\n",
       "    }\n",
       "</style>\n",
       "<table border=\"1\" class=\"dataframe\">\n",
       "  <thead>\n",
       "    <tr style=\"text-align: right;\">\n",
       "      <th></th>\n",
       "      <th>Links</th>\n",
       "      <th>Name</th>\n",
       "      <th>Price</th>\n",
       "      <th>Location</th>\n",
       "      <th>Mileage</th>\n",
       "      <th>Transmission</th>\n",
       "      <th>Exterior Colour</th>\n",
       "      <th>Engine</th>\n",
       "      <th>Drivetrain</th>\n",
       "      <th>Fuel Type</th>\n",
       "      <th>Major Options</th>\n",
       "      <th>year</th>\n",
       "      <th>Title</th>\n",
       "      <th>Brand</th>\n",
       "    </tr>\n",
       "  </thead>\n",
       "  <tbody>\n",
       "    <tr>\n",
       "      <th>0</th>\n",
       "      <td>ViewedSave this listing2017 Volkswagen Golf 1....</td>\n",
       "      <td>2017 Volkswagen Golf 1.8T Comfortline 4-Door F...</td>\n",
       "      <td>15990</td>\n",
       "      <td>New Westminster</td>\n",
       "      <td>83000</td>\n",
       "      <td>Automatic</td>\n",
       "      <td>White</td>\n",
       "      <td>NaN</td>\n",
       "      <td>NaN</td>\n",
       "      <td>NaN</td>\n",
       "      <td>Bluetooth, Backup Camera, Heated Seats, CarPlay</td>\n",
       "      <td>2017</td>\n",
       "      <td>Volkswagen Golf 1.8T Comfortline 4-Door FWD</td>\n",
       "      <td>Volkswagen</td>\n",
       "    </tr>\n",
       "    <tr>\n",
       "      <th>1</th>\n",
       "      <td>ViewedSave this listing2019 RAM 1500 Classic T...</td>\n",
       "      <td>2019 RAM 1500 Classic Tradesman Crew Cab 4WD -...</td>\n",
       "      <td>38900</td>\n",
       "      <td>New Westminster</td>\n",
       "      <td>26000</td>\n",
       "      <td>Automatic</td>\n",
       "      <td>Blue</td>\n",
       "      <td>305 hp 3.6L V6 Flex Fuel Vehicle</td>\n",
       "      <td>Four-Wheel Drive</td>\n",
       "      <td>Flex Fuel Vehicle</td>\n",
       "      <td>Alloy Wheels, Bluetooth, Backup Camera, Remote...</td>\n",
       "      <td>2019</td>\n",
       "      <td>RAM 1500 Classic Tradesman Crew Cab 4WD</td>\n",
       "      <td>RAM</td>\n",
       "    </tr>\n",
       "  </tbody>\n",
       "</table>\n",
       "</div>"
      ],
      "text/plain": [
       "                                               Links  \\\n",
       "0  ViewedSave this listing2017 Volkswagen Golf 1....   \n",
       "1  ViewedSave this listing2019 RAM 1500 Classic T...   \n",
       "\n",
       "                                                Name  Price         Location  \\\n",
       "0  2017 Volkswagen Golf 1.8T Comfortline 4-Door F...  15990  New Westminster   \n",
       "1  2019 RAM 1500 Classic Tradesman Crew Cab 4WD -...  38900  New Westminster   \n",
       "\n",
       "   Mileage Transmission Exterior Colour                            Engine  \\\n",
       "0    83000    Automatic           White                               NaN   \n",
       "1    26000    Automatic            Blue  305 hp 3.6L V6 Flex Fuel Vehicle   \n",
       "\n",
       "         Drivetrain          Fuel Type  \\\n",
       "0               NaN                NaN   \n",
       "1  Four-Wheel Drive  Flex Fuel Vehicle   \n",
       "\n",
       "                                       Major Options  year  \\\n",
       "0    Bluetooth, Backup Camera, Heated Seats, CarPlay  2017   \n",
       "1  Alloy Wheels, Bluetooth, Backup Camera, Remote...  2019   \n",
       "\n",
       "                                         Title       Brand  \n",
       "0  Volkswagen Golf 1.8T Comfortline 4-Door FWD  Volkswagen  \n",
       "1      RAM 1500 Classic Tradesman Crew Cab 4WD         RAM  "
      ]
     },
     "execution_count": 31,
     "metadata": {},
     "output_type": "execute_result"
    }
   ],
   "source": [
    "df.head(2)"
   ]
  },
  {
   "cell_type": "markdown",
   "metadata": {},
   "source": [
    "Replace Transmission with just Automatic and Manual"
   ]
  },
  {
   "cell_type": "code",
   "execution_count": 32,
   "metadata": {},
   "outputs": [
    {
     "data": {
      "text/plain": [
       "Automatic                             1787\n",
       "6-Speed Automatic                      133\n",
       "8-Speed Automatic                      131\n",
       "Continuously Variable Transmission     128\n",
       "Manual                                 113\n",
       "9-Speed Automatic                       32\n",
       "6-Speed Manual                          26\n",
       "7-Speed Automatic                       20\n",
       "8-Speed Automatic Overdrive             15\n",
       "5-Speed Automatic                       14\n",
       "4-Speed Automatic                       14\n",
       "6-Speed Automatic Overdrive             11\n",
       "1-Speed Automatic                        6\n",
       "5-Speed Automatic Overdrive              5\n",
       "5-Speed Manual                           3\n",
       "9-Speed Automatic Overdrive              3\n",
       "6-Speed Manual Overdrive                 3\n",
       "8-Speed Dual Clutch                      2\n",
       "7-Speed Automatic Overdrive              1\n",
       "10-Speed Automatic                       1\n",
       "Name: Transmission, dtype: int64"
      ]
     },
     "execution_count": 32,
     "metadata": {},
     "output_type": "execute_result"
    }
   ],
   "source": [
    "df['Transmission'].value_counts()"
   ]
  },
  {
   "cell_type": "code",
   "execution_count": 33,
   "metadata": {},
   "outputs": [
    {
     "data": {
      "text/plain": [
       "True"
      ]
     },
     "execution_count": 33,
     "metadata": {},
     "output_type": "execute_result"
    }
   ],
   "source": [
    "'Auto' in df['Transmission'][0]"
   ]
  },
  {
   "cell_type": "code",
   "execution_count": 34,
   "metadata": {},
   "outputs": [],
   "source": [
    "#df['Transmission'] = df['Transmission'].apply(lambda x: x.split(',')[0] if pd.notnull(x) else x)\n",
    "#df['Transmission'] = df['Transmission'].apply(lambda x: x.replace(',', '') if 'Automatic' in x)"
   ]
  },
  {
   "cell_type": "code",
   "execution_count": 35,
   "metadata": {},
   "outputs": [],
   "source": [
    "#df.loc[df['Transmission'].str.contains('Auto'), 'Transmission'] = 'ball sport'"
   ]
  },
  {
   "cell_type": "code",
   "execution_count": 36,
   "metadata": {},
   "outputs": [],
   "source": [
    "df['Transmission'] = df['Transmission'].apply(lambda x: ('Automatic' if 'Automatic' in x else x) if pd.notnull(x) else x)"
   ]
  },
  {
   "cell_type": "code",
   "execution_count": 37,
   "metadata": {},
   "outputs": [],
   "source": [
    "df['Transmission'] = df['Transmission'].apply(lambda x: ('Manual' if not 'Automatic' in x else x) if pd.notnull(x) else x)"
   ]
  },
  {
   "cell_type": "code",
   "execution_count": 38,
   "metadata": {},
   "outputs": [
    {
     "data": {
      "text/plain": [
       "Automatic    2173\n",
       "Manual        275\n",
       "Name: Transmission, dtype: int64"
      ]
     },
     "execution_count": 38,
     "metadata": {},
     "output_type": "execute_result"
    }
   ],
   "source": [
    "df['Transmission'].value_counts()"
   ]
  },
  {
   "cell_type": "markdown",
   "metadata": {},
   "source": [
    "Limit the color of the car to White, Black, Gray, Blue, Silver, Orange, Red, Green and Others"
   ]
  },
  {
   "cell_type": "code",
   "execution_count": 39,
   "metadata": {},
   "outputs": [
    {
     "data": {
      "text/plain": [
       "White                            420\n",
       "Black                            390\n",
       "Gray                             274\n",
       "Blue                             149\n",
       "Silver                           122\n",
       "Red                              101\n",
       "Bright White                      26\n",
       "Alpine White                      23\n",
       "Granite Crystal Metallic          14\n",
       "Polar White                       13\n",
       "Orange                            13\n",
       "Brown                             12\n",
       "Diamond Black Crystal Pearl       12\n",
       "Crystal Black Pearl               12\n",
       "Bright White Clearcoat            12\n",
       "Pure White                        11\n",
       "Obsidian Black Met                11\n",
       "Platinum White Pearl              11\n",
       "Green                             11\n",
       "Black Sapphire Metallic            9\n",
       "Fuji White                         8\n",
       "Onyx Black                         8\n",
       "Deep Black Pearl                   8\n",
       "Brown (Beige)                      7\n",
       "Crystal White Pearl                7\n",
       "Gray (Mineral Grey Met)            7\n",
       "Shadow Black                       6\n",
       "Pearl White                        6\n",
       "Super White                        6\n",
       "Billet Metallic                    6\n",
       "Glacier White                      6\n",
       "Oxford White                       5\n",
       "Jet Black                          5\n",
       "Black Sapphire Met                 5\n",
       "Gray (Machine Grey Met)            5\n",
       "Mineral White Met                  5\n",
       "Brilliant Black Crystal Pearl      5\n",
       "Crystal White                      5\n",
       "Carrara White Met                  5\n",
       "Black Sapphire MET                 5\n",
       "Gray (Magnetic Grey)               4\n",
       "Velvet Red Pearl                   4\n",
       "Navarra Blue MET                   4\n",
       "Atomic Silver                      4\n",
       "Snow White Pearl                   4\n",
       "Ibis White                         4\n",
       "Pyrite Silver Met                  4\n",
       "Super Black                        4\n",
       "Gold                               4\n",
       "Gray (Modern Steel Met)            4\n",
       "Name: Exterior Colour, dtype: int64"
      ]
     },
     "execution_count": 39,
     "metadata": {},
     "output_type": "execute_result"
    }
   ],
   "source": [
    "df['Exterior Colour'].value_counts().head(50)"
   ]
  },
  {
   "cell_type": "code",
   "execution_count": 40,
   "metadata": {},
   "outputs": [
    {
     "data": {
      "text/plain": [
       "237"
      ]
     },
     "execution_count": 40,
     "metadata": {},
     "output_type": "execute_result"
    }
   ],
   "source": [
    "df['Exterior Colour'].isnull().sum()"
   ]
  },
  {
   "cell_type": "code",
   "execution_count": 41,
   "metadata": {},
   "outputs": [],
   "source": [
    "def Color_sorting(Column):\n",
    "    Color = (\"Black\", \"White\", \"Silver\", \"Red\", \"Blue\", \"Gray\", \"Orange\", \"Green\")\n",
    "    col1 = Column.apply(lambda x: \"Black\" if \"black\" in str(x).lower() else x)\n",
    "    col2 = col1.apply(lambda x: \"White\" if \"white\" in str(x).lower() else x)\n",
    "    col3 = col2.apply(lambda x: \"Gray\" if \"gray\" in str(x).lower() else x)\n",
    "    col4 = col3.apply(lambda x: \"Silver\" if \"silver\" in str(x).lower() else x)\n",
    "    col5 = col4.apply(lambda x: \"Red\" if \"red\" in str(x).lower() else x)\n",
    "    col6 = col5.apply(lambda x: \"Blue\" if \"blue\" in str(x).lower() else x)\n",
    "    col7 = col6.apply(lambda x: x if x in Color else 'Other')\n",
    "    return col7  ##cleans color "
   ]
  },
  {
   "cell_type": "code",
   "execution_count": 42,
   "metadata": {},
   "outputs": [
    {
     "data": {
      "text/plain": [
       "White     647\n",
       "Black     565\n",
       "Gray      390\n",
       "Other     334\n",
       "Blue      226\n",
       "Silver    166\n",
       "Red       152\n",
       "Orange     13\n",
       "Green      11\n",
       "Name: Color, dtype: int64"
      ]
     },
     "execution_count": 42,
     "metadata": {},
     "output_type": "execute_result"
    }
   ],
   "source": [
    "df['Color'] = Color_sorting(df['Exterior Colour'])\n",
    "df['Color'].value_counts()"
   ]
  },
  {
   "cell_type": "code",
   "execution_count": null,
   "metadata": {},
   "outputs": [],
   "source": []
  },
  {
   "cell_type": "code",
   "execution_count": 43,
   "metadata": {},
   "outputs": [
    {
     "data": {
      "text/plain": [
       "Gasoline             1724\n",
       "Flex Fuel Vehicle     126\n",
       "Diesel                 51\n",
       "Electric               35\n",
       "Hybrid                 25\n",
       "Biodiesel              24\n",
       "Name: Fuel Type, dtype: int64"
      ]
     },
     "execution_count": 43,
     "metadata": {},
     "output_type": "execute_result"
    }
   ],
   "source": [
    "df['Fuel Type'].value_counts()"
   ]
  },
  {
   "cell_type": "code",
   "execution_count": 44,
   "metadata": {},
   "outputs": [
    {
     "data": {
      "text/html": [
       "<div>\n",
       "<style scoped>\n",
       "    .dataframe tbody tr th:only-of-type {\n",
       "        vertical-align: middle;\n",
       "    }\n",
       "\n",
       "    .dataframe tbody tr th {\n",
       "        vertical-align: top;\n",
       "    }\n",
       "\n",
       "    .dataframe thead th {\n",
       "        text-align: right;\n",
       "    }\n",
       "</style>\n",
       "<table border=\"1\" class=\"dataframe\">\n",
       "  <thead>\n",
       "    <tr style=\"text-align: right;\">\n",
       "      <th></th>\n",
       "      <th>Links</th>\n",
       "      <th>Name</th>\n",
       "      <th>Price</th>\n",
       "      <th>Location</th>\n",
       "      <th>Mileage</th>\n",
       "      <th>Transmission</th>\n",
       "      <th>Exterior Colour</th>\n",
       "      <th>Engine</th>\n",
       "      <th>Drivetrain</th>\n",
       "      <th>Fuel Type</th>\n",
       "      <th>Major Options</th>\n",
       "      <th>year</th>\n",
       "      <th>Title</th>\n",
       "      <th>Brand</th>\n",
       "      <th>Color</th>\n",
       "    </tr>\n",
       "  </thead>\n",
       "  <tbody>\n",
       "    <tr>\n",
       "      <th>0</th>\n",
       "      <td>ViewedSave this listing2017 Volkswagen Golf 1....</td>\n",
       "      <td>2017 Volkswagen Golf 1.8T Comfortline 4-Door F...</td>\n",
       "      <td>15990</td>\n",
       "      <td>New Westminster</td>\n",
       "      <td>83000</td>\n",
       "      <td>Automatic</td>\n",
       "      <td>White</td>\n",
       "      <td>NaN</td>\n",
       "      <td>NaN</td>\n",
       "      <td>NaN</td>\n",
       "      <td>Bluetooth, Backup Camera, Heated Seats, CarPlay</td>\n",
       "      <td>2017</td>\n",
       "      <td>Volkswagen Golf 1.8T Comfortline 4-Door FWD</td>\n",
       "      <td>Volkswagen</td>\n",
       "      <td>White</td>\n",
       "    </tr>\n",
       "    <tr>\n",
       "      <th>1</th>\n",
       "      <td>ViewedSave this listing2019 RAM 1500 Classic T...</td>\n",
       "      <td>2019 RAM 1500 Classic Tradesman Crew Cab 4WD -...</td>\n",
       "      <td>38900</td>\n",
       "      <td>New Westminster</td>\n",
       "      <td>26000</td>\n",
       "      <td>Automatic</td>\n",
       "      <td>Blue</td>\n",
       "      <td>305 hp 3.6L V6 Flex Fuel Vehicle</td>\n",
       "      <td>Four-Wheel Drive</td>\n",
       "      <td>Flex Fuel Vehicle</td>\n",
       "      <td>Alloy Wheels, Bluetooth, Backup Camera, Remote...</td>\n",
       "      <td>2019</td>\n",
       "      <td>RAM 1500 Classic Tradesman Crew Cab 4WD</td>\n",
       "      <td>RAM</td>\n",
       "      <td>Blue</td>\n",
       "    </tr>\n",
       "  </tbody>\n",
       "</table>\n",
       "</div>"
      ],
      "text/plain": [
       "                                               Links  \\\n",
       "0  ViewedSave this listing2017 Volkswagen Golf 1....   \n",
       "1  ViewedSave this listing2019 RAM 1500 Classic T...   \n",
       "\n",
       "                                                Name  Price         Location  \\\n",
       "0  2017 Volkswagen Golf 1.8T Comfortline 4-Door F...  15990  New Westminster   \n",
       "1  2019 RAM 1500 Classic Tradesman Crew Cab 4WD -...  38900  New Westminster   \n",
       "\n",
       "   Mileage Transmission Exterior Colour                            Engine  \\\n",
       "0    83000    Automatic           White                               NaN   \n",
       "1    26000    Automatic            Blue  305 hp 3.6L V6 Flex Fuel Vehicle   \n",
       "\n",
       "         Drivetrain          Fuel Type  \\\n",
       "0               NaN                NaN   \n",
       "1  Four-Wheel Drive  Flex Fuel Vehicle   \n",
       "\n",
       "                                       Major Options  year  \\\n",
       "0    Bluetooth, Backup Camera, Heated Seats, CarPlay  2017   \n",
       "1  Alloy Wheels, Bluetooth, Backup Camera, Remote...  2019   \n",
       "\n",
       "                                         Title       Brand  Color  \n",
       "0  Volkswagen Golf 1.8T Comfortline 4-Door FWD  Volkswagen  White  \n",
       "1      RAM 1500 Classic Tradesman Crew Cab 4WD         RAM   Blue  "
      ]
     },
     "execution_count": 44,
     "metadata": {},
     "output_type": "execute_result"
    }
   ],
   "source": [
    "df.head(2)"
   ]
  },
  {
   "cell_type": "code",
   "execution_count": 45,
   "metadata": {},
   "outputs": [
    {
     "data": {
      "text/plain": [
       "All-Wheel Drive      654\n",
       "Front-Wheel Drive    489\n",
       "Four-Wheel Drive     485\n",
       "Rear-Wheel Drive     167\n",
       "4X2                   19\n",
       "Name: Drivetrain, dtype: int64"
      ]
     },
     "execution_count": 45,
     "metadata": {},
     "output_type": "execute_result"
    }
   ],
   "source": [
    "df['Drivetrain'].value_counts()"
   ]
  },
  {
   "cell_type": "markdown",
   "metadata": {},
   "source": [
    "Creating a new column for No_of_features from Major Options column"
   ]
  },
  {
   "cell_type": "code",
   "execution_count": 46,
   "metadata": {},
   "outputs": [],
   "source": [
    "df['No_of_features'] = df['Major Options'].apply(lambda x: len(str(x).split(',')) if pd.notnull(x) else x)"
   ]
  },
  {
   "cell_type": "code",
   "execution_count": 47,
   "metadata": {},
   "outputs": [
    {
     "data": {
      "text/plain": [
       "<bound method IndexOpsMixin.value_counts of 0       4.0\n",
       "1       7.0\n",
       "2       5.0\n",
       "3       1.0\n",
       "4       8.0\n",
       "       ... \n",
       "2530    4.0\n",
       "2531    8.0\n",
       "2532    6.0\n",
       "2533    4.0\n",
       "2534    NaN\n",
       "Name: No_of_features, Length: 2504, dtype: float64>"
      ]
     },
     "execution_count": 47,
     "metadata": {},
     "output_type": "execute_result"
    }
   ],
   "source": [
    "df['No_of_features'].value_counts"
   ]
  },
  {
   "cell_type": "markdown",
   "metadata": {},
   "source": [
    "Change Four-Wheel Drive to All-Wheel Drive in column Drivetrain as both means the same. Also change 4X2 to 'Four-Wheel Drive'"
   ]
  },
  {
   "cell_type": "code",
   "execution_count": 48,
   "metadata": {},
   "outputs": [
    {
     "data": {
      "text/plain": [
       "Index(['Links', 'Name', 'Price', 'Location', 'Mileage', 'Transmission',\n",
       "       'Exterior Colour', 'Engine', 'Drivetrain', 'Fuel Type', 'Major Options',\n",
       "       'year', 'Title', 'Brand', 'Color', 'No_of_features'],\n",
       "      dtype='object')"
      ]
     },
     "execution_count": 48,
     "metadata": {},
     "output_type": "execute_result"
    }
   ],
   "source": [
    "df.columns"
   ]
  },
  {
   "cell_type": "code",
   "execution_count": 49,
   "metadata": {},
   "outputs": [],
   "source": [
    "df['Drivetrain'] = df['Drivetrain'].apply(lambda x: x.replace('4X2','Front-Wheel Drive') if pd.notnull(x) else x)"
   ]
  },
  {
   "cell_type": "code",
   "execution_count": 50,
   "metadata": {},
   "outputs": [
    {
     "data": {
      "text/plain": [
       "554"
      ]
     },
     "execution_count": 50,
     "metadata": {},
     "output_type": "execute_result"
    }
   ],
   "source": [
    "df['Engine'].isnull().sum()"
   ]
  },
  {
   "cell_type": "code",
   "execution_count": 51,
   "metadata": {
    "scrolled": true
   },
   "outputs": [
    {
     "data": {
      "text/plain": [
       "All-Wheel Drive      654\n",
       "Front-Wheel Drive    508\n",
       "Four-Wheel Drive     485\n",
       "Rear-Wheel Drive     167\n",
       "Name: Drivetrain, dtype: int64"
      ]
     },
     "execution_count": 51,
     "metadata": {},
     "output_type": "execute_result"
    }
   ],
   "source": [
    "df['Drivetrain'].value_counts()"
   ]
  },
  {
   "cell_type": "code",
   "execution_count": 52,
   "metadata": {},
   "outputs": [],
   "source": [
    "#df['Tutle'] = df['Engine'].str.extract('(V|I)\\d', expand=False).str.strip()\n",
    "df['Tutle'] = df['Engine'].str.extract('([V|I]+[\\d]+)', expand=False)"
   ]
  },
  {
   "cell_type": "code",
   "execution_count": 53,
   "metadata": {},
   "outputs": [],
   "source": [
    "df['Tutle'] = df['Engine'].str.extract('([0-9]+\\\\.*[0-9]*L\\s[V|I]+[\\d]+)', expand=False)"
   ]
  },
  {
   "cell_type": "code",
   "execution_count": 54,
   "metadata": {},
   "outputs": [],
   "source": [
    "df['Engine-hp'] = df['Engine'].str.extract('([0-9]+\\shp)', expand=False).str.strip()"
   ]
  },
  {
   "cell_type": "code",
   "execution_count": 55,
   "metadata": {},
   "outputs": [
    {
     "data": {
      "text/plain": [
       "0       NaN\n",
       "1    305 hp\n",
       "Name: Engine-hp, dtype: object"
      ]
     },
     "execution_count": 55,
     "metadata": {},
     "output_type": "execute_result"
    }
   ],
   "source": [
    "df['Engine-hp'].head(2)"
   ]
  },
  {
   "cell_type": "code",
   "execution_count": 56,
   "metadata": {},
   "outputs": [],
   "source": [
    "df['Engine-L'] = df['Engine'].str.extract('([0-9]+\\\\.*[0-9]*L)', expand=False).str.strip()"
   ]
  },
  {
   "cell_type": "code",
   "execution_count": 57,
   "metadata": {},
   "outputs": [],
   "source": [
    "#df['Engine-Type'] = df['Engine'].str.extract('([0-9]+\\\\.*[0-9]*L\\s[V|I]+[\\d]+)', expand=False)\n",
    "df['Engine-Type'] = df['Engine'].str.extract('([V|I]+[\\d]+)', expand=False)"
   ]
  },
  {
   "cell_type": "code",
   "execution_count": 58,
   "metadata": {},
   "outputs": [
    {
     "data": {
      "text/plain": [
       "I4     854\n",
       "V6     583\n",
       "V8     367\n",
       "I6      88\n",
       "I3      21\n",
       "I5       9\n",
       "V10      1\n",
       "Name: Engine-Type, dtype: int64"
      ]
     },
     "execution_count": 58,
     "metadata": {},
     "output_type": "execute_result"
    }
   ],
   "source": [
    "df['Engine-Type'].value_counts()"
   ]
  },
  {
   "cell_type": "code",
   "execution_count": 59,
   "metadata": {},
   "outputs": [
    {
     "data": {
      "text/plain": [
       "554"
      ]
     },
     "execution_count": 59,
     "metadata": {},
     "output_type": "execute_result"
    }
   ],
   "source": [
    "df['Engine-L'].isnull().sum()"
   ]
  },
  {
   "cell_type": "code",
   "execution_count": 60,
   "metadata": {},
   "outputs": [
    {
     "data": {
      "text/plain": [
       "704"
      ]
     },
     "execution_count": 60,
     "metadata": {},
     "output_type": "execute_result"
    }
   ],
   "source": [
    "df['Engine-hp'].isnull().sum()"
   ]
  },
  {
   "cell_type": "code",
   "execution_count": 61,
   "metadata": {},
   "outputs": [
    {
     "data": {
      "text/plain": [
       "581"
      ]
     },
     "execution_count": 61,
     "metadata": {},
     "output_type": "execute_result"
    }
   ],
   "source": [
    "df['Engine-Type'].isnull().sum()"
   ]
  },
  {
   "cell_type": "markdown",
   "metadata": {},
   "source": [
    "Drivetrain"
   ]
  },
  {
   "cell_type": "code",
   "execution_count": 62,
   "metadata": {},
   "outputs": [
    {
     "data": {
      "text/plain": [
       "Gasoline             1724\n",
       "Flex Fuel Vehicle     126\n",
       "Diesel                 51\n",
       "Electric               35\n",
       "Hybrid                 25\n",
       "Biodiesel              24\n",
       "Name: Fuel Type, dtype: int64"
      ]
     },
     "execution_count": 62,
     "metadata": {},
     "output_type": "execute_result"
    }
   ],
   "source": [
    "df['Fuel Type'].value_counts()"
   ]
  },
  {
   "cell_type": "code",
   "execution_count": 63,
   "metadata": {},
   "outputs": [
    {
     "data": {
      "text/html": [
       "<div>\n",
       "<style scoped>\n",
       "    .dataframe tbody tr th:only-of-type {\n",
       "        vertical-align: middle;\n",
       "    }\n",
       "\n",
       "    .dataframe tbody tr th {\n",
       "        vertical-align: top;\n",
       "    }\n",
       "\n",
       "    .dataframe thead th {\n",
       "        text-align: right;\n",
       "    }\n",
       "</style>\n",
       "<table border=\"1\" class=\"dataframe\">\n",
       "  <thead>\n",
       "    <tr style=\"text-align: right;\">\n",
       "      <th></th>\n",
       "      <th>Links</th>\n",
       "      <th>Name</th>\n",
       "      <th>Price</th>\n",
       "      <th>Location</th>\n",
       "      <th>Mileage</th>\n",
       "      <th>Transmission</th>\n",
       "      <th>Exterior Colour</th>\n",
       "      <th>Engine</th>\n",
       "      <th>Drivetrain</th>\n",
       "      <th>Fuel Type</th>\n",
       "      <th>Major Options</th>\n",
       "      <th>year</th>\n",
       "      <th>Title</th>\n",
       "      <th>Brand</th>\n",
       "      <th>Color</th>\n",
       "      <th>No_of_features</th>\n",
       "      <th>Tutle</th>\n",
       "      <th>Engine-hp</th>\n",
       "      <th>Engine-L</th>\n",
       "      <th>Engine-Type</th>\n",
       "    </tr>\n",
       "  </thead>\n",
       "  <tbody>\n",
       "  </tbody>\n",
       "</table>\n",
       "</div>"
      ],
      "text/plain": [
       "Empty DataFrame\n",
       "Columns: [Links, Name, Price, Location, Mileage, Transmission, Exterior Colour, Engine, Drivetrain, Fuel Type, Major Options, year, Title, Brand, Color, No_of_features, Tutle, Engine-hp, Engine-L, Engine-Type]\n",
       "Index: []"
      ]
     },
     "execution_count": 63,
     "metadata": {},
     "output_type": "execute_result"
    }
   ],
   "source": [
    "df[df['Engine-hp'].isnull() & df['Engine-L'].isnull() & df['Drivetrain'].isnull() & df['Fuel Type'].isnull() & df['Title'].isnull()]"
   ]
  },
  {
   "cell_type": "code",
   "execution_count": 64,
   "metadata": {},
   "outputs": [
    {
     "name": "stdout",
     "output_type": "stream",
     "text": [
      "<class 'pandas.core.frame.DataFrame'>\n",
      "Int64Index: 2504 entries, 0 to 2534\n",
      "Data columns (total 20 columns):\n",
      " #   Column           Non-Null Count  Dtype  \n",
      "---  ------           --------------  -----  \n",
      " 0   Links            2504 non-null   object \n",
      " 1   Name             2504 non-null   object \n",
      " 2   Price            2504 non-null   int64  \n",
      " 3   Location         2417 non-null   object \n",
      " 4   Mileage          2504 non-null   int64  \n",
      " 5   Transmission     2448 non-null   object \n",
      " 6   Exterior Colour  2267 non-null   object \n",
      " 7   Engine           1950 non-null   object \n",
      " 8   Drivetrain       1814 non-null   object \n",
      " 9   Fuel Type        1985 non-null   object \n",
      " 10  Major Options    2098 non-null   object \n",
      " 11  year             2504 non-null   int64  \n",
      " 12  Title            2504 non-null   object \n",
      " 13  Brand            2504 non-null   object \n",
      " 14  Color            2504 non-null   object \n",
      " 15  No_of_features   2098 non-null   float64\n",
      " 16  Tutle            1923 non-null   object \n",
      " 17  Engine-hp        1800 non-null   object \n",
      " 18  Engine-L         1950 non-null   object \n",
      " 19  Engine-Type      1923 non-null   object \n",
      "dtypes: float64(1), int64(3), object(16)\n",
      "memory usage: 490.8+ KB\n"
     ]
    }
   ],
   "source": [
    "df.info()"
   ]
  },
  {
   "cell_type": "code",
   "execution_count": 65,
   "metadata": {},
   "outputs": [
    {
     "data": {
      "text/html": [
       "<div>\n",
       "<style scoped>\n",
       "    .dataframe tbody tr th:only-of-type {\n",
       "        vertical-align: middle;\n",
       "    }\n",
       "\n",
       "    .dataframe tbody tr th {\n",
       "        vertical-align: top;\n",
       "    }\n",
       "\n",
       "    .dataframe thead th {\n",
       "        text-align: right;\n",
       "    }\n",
       "</style>\n",
       "<table border=\"1\" class=\"dataframe\">\n",
       "  <thead>\n",
       "    <tr style=\"text-align: right;\">\n",
       "      <th></th>\n",
       "      <th>Links</th>\n",
       "      <th>Name</th>\n",
       "      <th>Price</th>\n",
       "      <th>Location</th>\n",
       "      <th>Mileage</th>\n",
       "      <th>Transmission</th>\n",
       "      <th>Exterior Colour</th>\n",
       "      <th>Engine</th>\n",
       "      <th>Drivetrain</th>\n",
       "      <th>Fuel Type</th>\n",
       "      <th>Major Options</th>\n",
       "      <th>year</th>\n",
       "      <th>Title</th>\n",
       "      <th>Brand</th>\n",
       "      <th>Color</th>\n",
       "      <th>No_of_features</th>\n",
       "      <th>Tutle</th>\n",
       "      <th>Engine-hp</th>\n",
       "      <th>Engine-L</th>\n",
       "      <th>Engine-Type</th>\n",
       "    </tr>\n",
       "  </thead>\n",
       "  <tbody>\n",
       "    <tr>\n",
       "      <th>0</th>\n",
       "      <td>ViewedSave this listing2017 Volkswagen Golf 1....</td>\n",
       "      <td>2017 Volkswagen Golf 1.8T Comfortline 4-Door F...</td>\n",
       "      <td>15990</td>\n",
       "      <td>New Westminster</td>\n",
       "      <td>83000</td>\n",
       "      <td>Automatic</td>\n",
       "      <td>White</td>\n",
       "      <td>NaN</td>\n",
       "      <td>NaN</td>\n",
       "      <td>NaN</td>\n",
       "      <td>Bluetooth, Backup Camera, Heated Seats, CarPlay</td>\n",
       "      <td>2017</td>\n",
       "      <td>Volkswagen Golf 1.8T Comfortline 4-Door FWD</td>\n",
       "      <td>Volkswagen</td>\n",
       "      <td>White</td>\n",
       "      <td>4.0</td>\n",
       "      <td>NaN</td>\n",
       "      <td>NaN</td>\n",
       "      <td>NaN</td>\n",
       "      <td>NaN</td>\n",
       "    </tr>\n",
       "    <tr>\n",
       "      <th>1</th>\n",
       "      <td>ViewedSave this listing2019 RAM 1500 Classic T...</td>\n",
       "      <td>2019 RAM 1500 Classic Tradesman Crew Cab 4WD -...</td>\n",
       "      <td>38900</td>\n",
       "      <td>New Westminster</td>\n",
       "      <td>26000</td>\n",
       "      <td>Automatic</td>\n",
       "      <td>Blue</td>\n",
       "      <td>305 hp 3.6L V6 Flex Fuel Vehicle</td>\n",
       "      <td>Four-Wheel Drive</td>\n",
       "      <td>Flex Fuel Vehicle</td>\n",
       "      <td>Alloy Wheels, Bluetooth, Backup Camera, Remote...</td>\n",
       "      <td>2019</td>\n",
       "      <td>RAM 1500 Classic Tradesman Crew Cab 4WD</td>\n",
       "      <td>RAM</td>\n",
       "      <td>Blue</td>\n",
       "      <td>7.0</td>\n",
       "      <td>3.6L V6</td>\n",
       "      <td>305 hp</td>\n",
       "      <td>3.6L</td>\n",
       "      <td>V6</td>\n",
       "    </tr>\n",
       "  </tbody>\n",
       "</table>\n",
       "</div>"
      ],
      "text/plain": [
       "                                               Links  \\\n",
       "0  ViewedSave this listing2017 Volkswagen Golf 1....   \n",
       "1  ViewedSave this listing2019 RAM 1500 Classic T...   \n",
       "\n",
       "                                                Name  Price         Location  \\\n",
       "0  2017 Volkswagen Golf 1.8T Comfortline 4-Door F...  15990  New Westminster   \n",
       "1  2019 RAM 1500 Classic Tradesman Crew Cab 4WD -...  38900  New Westminster   \n",
       "\n",
       "   Mileage Transmission Exterior Colour                            Engine  \\\n",
       "0    83000    Automatic           White                               NaN   \n",
       "1    26000    Automatic            Blue  305 hp 3.6L V6 Flex Fuel Vehicle   \n",
       "\n",
       "         Drivetrain          Fuel Type  \\\n",
       "0               NaN                NaN   \n",
       "1  Four-Wheel Drive  Flex Fuel Vehicle   \n",
       "\n",
       "                                       Major Options  year  \\\n",
       "0    Bluetooth, Backup Camera, Heated Seats, CarPlay  2017   \n",
       "1  Alloy Wheels, Bluetooth, Backup Camera, Remote...  2019   \n",
       "\n",
       "                                         Title       Brand  Color  \\\n",
       "0  Volkswagen Golf 1.8T Comfortline 4-Door FWD  Volkswagen  White   \n",
       "1      RAM 1500 Classic Tradesman Crew Cab 4WD         RAM   Blue   \n",
       "\n",
       "   No_of_features    Tutle Engine-hp Engine-L Engine-Type  \n",
       "0             4.0      NaN       NaN      NaN         NaN  \n",
       "1             7.0  3.6L V6    305 hp     3.6L          V6  "
      ]
     },
     "execution_count": 65,
     "metadata": {},
     "output_type": "execute_result"
    }
   ],
   "source": [
    "df.head(2)"
   ]
  },
  {
   "cell_type": "markdown",
   "metadata": {},
   "source": [
    "Drop columns Link, Name, Engine,Tutle"
   ]
  },
  {
   "cell_type": "code",
   "execution_count": 66,
   "metadata": {},
   "outputs": [],
   "source": [
    "#df.drop(['Links', 'Name', 'Engine','Tutle', 'Title', 'Exterior Colour', 'Major Options'], inplace = True, axis = 1)"
   ]
  },
  {
   "cell_type": "code",
   "execution_count": 67,
   "metadata": {},
   "outputs": [],
   "source": [
    "#####################delete after usage################################## updelete after deleting this line\n",
    "df.drop(['Links', 'Name', 'Engine','Tutle', 'Title', 'Exterior Colour'], inplace = True, axis = 1)"
   ]
  },
  {
   "cell_type": "code",
   "execution_count": 68,
   "metadata": {
    "scrolled": true
   },
   "outputs": [
    {
     "data": {
      "text/html": [
       "<div>\n",
       "<style scoped>\n",
       "    .dataframe tbody tr th:only-of-type {\n",
       "        vertical-align: middle;\n",
       "    }\n",
       "\n",
       "    .dataframe tbody tr th {\n",
       "        vertical-align: top;\n",
       "    }\n",
       "\n",
       "    .dataframe thead th {\n",
       "        text-align: right;\n",
       "    }\n",
       "</style>\n",
       "<table border=\"1\" class=\"dataframe\">\n",
       "  <thead>\n",
       "    <tr style=\"text-align: right;\">\n",
       "      <th></th>\n",
       "      <th>Price</th>\n",
       "      <th>Location</th>\n",
       "      <th>Mileage</th>\n",
       "      <th>Transmission</th>\n",
       "      <th>Drivetrain</th>\n",
       "      <th>Fuel Type</th>\n",
       "      <th>Major Options</th>\n",
       "      <th>year</th>\n",
       "      <th>Brand</th>\n",
       "      <th>Color</th>\n",
       "      <th>No_of_features</th>\n",
       "      <th>Engine-hp</th>\n",
       "      <th>Engine-L</th>\n",
       "      <th>Engine-Type</th>\n",
       "    </tr>\n",
       "  </thead>\n",
       "  <tbody>\n",
       "    <tr>\n",
       "      <th>0</th>\n",
       "      <td>15990</td>\n",
       "      <td>New Westminster</td>\n",
       "      <td>83000</td>\n",
       "      <td>Automatic</td>\n",
       "      <td>NaN</td>\n",
       "      <td>NaN</td>\n",
       "      <td>Bluetooth, Backup Camera, Heated Seats, CarPlay</td>\n",
       "      <td>2017</td>\n",
       "      <td>Volkswagen</td>\n",
       "      <td>White</td>\n",
       "      <td>4.0</td>\n",
       "      <td>NaN</td>\n",
       "      <td>NaN</td>\n",
       "      <td>NaN</td>\n",
       "    </tr>\n",
       "    <tr>\n",
       "      <th>1</th>\n",
       "      <td>38900</td>\n",
       "      <td>New Westminster</td>\n",
       "      <td>26000</td>\n",
       "      <td>Automatic</td>\n",
       "      <td>Four-Wheel Drive</td>\n",
       "      <td>Flex Fuel Vehicle</td>\n",
       "      <td>Alloy Wheels, Bluetooth, Backup Camera, Remote...</td>\n",
       "      <td>2019</td>\n",
       "      <td>RAM</td>\n",
       "      <td>Blue</td>\n",
       "      <td>7.0</td>\n",
       "      <td>305 hp</td>\n",
       "      <td>3.6L</td>\n",
       "      <td>V6</td>\n",
       "    </tr>\n",
       "    <tr>\n",
       "      <th>2</th>\n",
       "      <td>28900</td>\n",
       "      <td>Port Coquitlam</td>\n",
       "      <td>49000</td>\n",
       "      <td>Automatic</td>\n",
       "      <td>All-Wheel Drive</td>\n",
       "      <td>Gasoline</td>\n",
       "      <td>Sport Package, Bluetooth, Backup Camera, Heate...</td>\n",
       "      <td>2015</td>\n",
       "      <td>Lexus</td>\n",
       "      <td>Silver</td>\n",
       "      <td>5.0</td>\n",
       "      <td>235 hp</td>\n",
       "      <td>2L</td>\n",
       "      <td>I4</td>\n",
       "    </tr>\n",
       "    <tr>\n",
       "      <th>3</th>\n",
       "      <td>11980</td>\n",
       "      <td>Burnaby</td>\n",
       "      <td>216288</td>\n",
       "      <td>Automatic</td>\n",
       "      <td>Rear-Wheel Drive</td>\n",
       "      <td>Gasoline</td>\n",
       "      <td>Alloy Wheels</td>\n",
       "      <td>2003</td>\n",
       "      <td>Toyota</td>\n",
       "      <td>Red</td>\n",
       "      <td>1.0</td>\n",
       "      <td>190 hp</td>\n",
       "      <td>3.4L</td>\n",
       "      <td>V6</td>\n",
       "    </tr>\n",
       "    <tr>\n",
       "      <th>4</th>\n",
       "      <td>16888</td>\n",
       "      <td>Victoria</td>\n",
       "      <td>144718</td>\n",
       "      <td>Automatic</td>\n",
       "      <td>All-Wheel Drive</td>\n",
       "      <td>Gasoline</td>\n",
       "      <td>Leather Seats, Sunroof/Moonroof, Navigation Sy...</td>\n",
       "      <td>2015</td>\n",
       "      <td>INFINITI</td>\n",
       "      <td>Black</td>\n",
       "      <td>8.0</td>\n",
       "      <td>330 hp</td>\n",
       "      <td>3.7L</td>\n",
       "      <td>V6</td>\n",
       "    </tr>\n",
       "  </tbody>\n",
       "</table>\n",
       "</div>"
      ],
      "text/plain": [
       "   Price         Location  Mileage Transmission        Drivetrain  \\\n",
       "0  15990  New Westminster    83000    Automatic               NaN   \n",
       "1  38900  New Westminster    26000    Automatic  Four-Wheel Drive   \n",
       "2  28900   Port Coquitlam    49000    Automatic   All-Wheel Drive   \n",
       "3  11980          Burnaby   216288    Automatic  Rear-Wheel Drive   \n",
       "4  16888         Victoria   144718    Automatic   All-Wheel Drive   \n",
       "\n",
       "           Fuel Type                                      Major Options  year  \\\n",
       "0                NaN    Bluetooth, Backup Camera, Heated Seats, CarPlay  2017   \n",
       "1  Flex Fuel Vehicle  Alloy Wheels, Bluetooth, Backup Camera, Remote...  2019   \n",
       "2           Gasoline  Sport Package, Bluetooth, Backup Camera, Heate...  2015   \n",
       "3           Gasoline                                       Alloy Wheels  2003   \n",
       "4           Gasoline  Leather Seats, Sunroof/Moonroof, Navigation Sy...  2015   \n",
       "\n",
       "        Brand   Color  No_of_features Engine-hp Engine-L Engine-Type  \n",
       "0  Volkswagen   White             4.0       NaN      NaN         NaN  \n",
       "1         RAM    Blue             7.0    305 hp     3.6L          V6  \n",
       "2       Lexus  Silver             5.0    235 hp       2L          I4  \n",
       "3      Toyota     Red             1.0    190 hp     3.4L          V6  \n",
       "4    INFINITI   Black             8.0    330 hp     3.7L          V6  "
      ]
     },
     "execution_count": 68,
     "metadata": {},
     "output_type": "execute_result"
    }
   ],
   "source": [
    "df.head()"
   ]
  },
  {
   "cell_type": "markdown",
   "metadata": {},
   "source": [
    "Strip 'L' from column Engine-L and 'hp' from column Engine-hp"
   ]
  },
  {
   "cell_type": "code",
   "execution_count": 69,
   "metadata": {},
   "outputs": [],
   "source": [
    "#df['Engine-hp'] = df['Engine-hp'].apply(lambda x: str(x.replace('L', ''))  if pd.notnull(x) else x)\n",
    "df['Engine-hp'] = df['Engine-hp'].map(lambda x: str(x)[:-3] if pd.notnull(x) else x)"
   ]
  },
  {
   "cell_type": "code",
   "execution_count": 70,
   "metadata": {},
   "outputs": [],
   "source": [
    "df['Engine-hp'] = pd.to_numeric(df['Engine-hp'], errors='coerce')"
   ]
  },
  {
   "cell_type": "code",
   "execution_count": 71,
   "metadata": {},
   "outputs": [],
   "source": [
    "df['Engine-L'] = df['Engine-L'].map(lambda x: str(x)[:-1] if pd.notnull(x) else x)"
   ]
  },
  {
   "cell_type": "code",
   "execution_count": 72,
   "metadata": {},
   "outputs": [],
   "source": [
    "df['Engine-L'] = pd.to_numeric(df['Engine-L'], errors='coerce')"
   ]
  },
  {
   "cell_type": "markdown",
   "metadata": {},
   "source": [
    "Convert year column from string to int"
   ]
  },
  {
   "cell_type": "code",
   "execution_count": 73,
   "metadata": {},
   "outputs": [],
   "source": [
    "df['year'] = df['year'].astype(int)"
   ]
  },
  {
   "cell_type": "markdown",
   "metadata": {},
   "source": [
    "Convert mileage column from string to int"
   ]
  },
  {
   "cell_type": "code",
   "execution_count": 74,
   "metadata": {},
   "outputs": [],
   "source": [
    "df['Mileage'] = df['Mileage'].astype(int)"
   ]
  },
  {
   "cell_type": "markdown",
   "metadata": {},
   "source": [
    "Make a column for age of the car and drop the column 'Year'"
   ]
  },
  {
   "cell_type": "code",
   "execution_count": 75,
   "metadata": {},
   "outputs": [],
   "source": [
    "df['Age'] = 2022 - df['year']"
   ]
  },
  {
   "cell_type": "code",
   "execution_count": 76,
   "metadata": {},
   "outputs": [],
   "source": [
    "df.drop('year', inplace = True, axis = 1)"
   ]
  },
  {
   "cell_type": "markdown",
   "metadata": {},
   "source": [
    "Uncapitalize all the column names"
   ]
  },
  {
   "cell_type": "code",
   "execution_count": 77,
   "metadata": {},
   "outputs": [],
   "source": [
    "df.columns= df.columns.str.lower()"
   ]
  },
  {
   "cell_type": "code",
   "execution_count": 78,
   "metadata": {
    "scrolled": true
   },
   "outputs": [
    {
     "data": {
      "text/plain": [
       "Index(['price', 'location', 'mileage', 'transmission', 'drivetrain',\n",
       "       'fuel type', 'major options', 'brand', 'color', 'no_of_features',\n",
       "       'engine-hp', 'engine-l', 'engine-type', 'age'],\n",
       "      dtype='object')"
      ]
     },
     "execution_count": 78,
     "metadata": {},
     "output_type": "execute_result"
    }
   ],
   "source": [
    "df.columns"
   ]
  },
  {
   "cell_type": "code",
   "execution_count": 79,
   "metadata": {
    "scrolled": false
   },
   "outputs": [
    {
     "data": {
      "text/html": [
       "<div>\n",
       "<style scoped>\n",
       "    .dataframe tbody tr th:only-of-type {\n",
       "        vertical-align: middle;\n",
       "    }\n",
       "\n",
       "    .dataframe tbody tr th {\n",
       "        vertical-align: top;\n",
       "    }\n",
       "\n",
       "    .dataframe thead th {\n",
       "        text-align: right;\n",
       "    }\n",
       "</style>\n",
       "<table border=\"1\" class=\"dataframe\">\n",
       "  <thead>\n",
       "    <tr style=\"text-align: right;\">\n",
       "      <th></th>\n",
       "      <th>price</th>\n",
       "      <th>location</th>\n",
       "      <th>mileage</th>\n",
       "      <th>transmission</th>\n",
       "      <th>drivetrain</th>\n",
       "      <th>fuel type</th>\n",
       "      <th>major options</th>\n",
       "      <th>brand</th>\n",
       "      <th>color</th>\n",
       "      <th>no_of_features</th>\n",
       "      <th>engine-hp</th>\n",
       "      <th>engine-l</th>\n",
       "      <th>engine-type</th>\n",
       "      <th>age</th>\n",
       "    </tr>\n",
       "  </thead>\n",
       "  <tbody>\n",
       "    <tr>\n",
       "      <th>0</th>\n",
       "      <td>15990</td>\n",
       "      <td>New Westminster</td>\n",
       "      <td>83000</td>\n",
       "      <td>Automatic</td>\n",
       "      <td>NaN</td>\n",
       "      <td>NaN</td>\n",
       "      <td>Bluetooth, Backup Camera, Heated Seats, CarPlay</td>\n",
       "      <td>Volkswagen</td>\n",
       "      <td>White</td>\n",
       "      <td>4.0</td>\n",
       "      <td>NaN</td>\n",
       "      <td>NaN</td>\n",
       "      <td>NaN</td>\n",
       "      <td>5</td>\n",
       "    </tr>\n",
       "    <tr>\n",
       "      <th>1</th>\n",
       "      <td>38900</td>\n",
       "      <td>New Westminster</td>\n",
       "      <td>26000</td>\n",
       "      <td>Automatic</td>\n",
       "      <td>Four-Wheel Drive</td>\n",
       "      <td>Flex Fuel Vehicle</td>\n",
       "      <td>Alloy Wheels, Bluetooth, Backup Camera, Remote...</td>\n",
       "      <td>RAM</td>\n",
       "      <td>Blue</td>\n",
       "      <td>7.0</td>\n",
       "      <td>305.0</td>\n",
       "      <td>3.6</td>\n",
       "      <td>V6</td>\n",
       "      <td>3</td>\n",
       "    </tr>\n",
       "    <tr>\n",
       "      <th>2</th>\n",
       "      <td>28900</td>\n",
       "      <td>Port Coquitlam</td>\n",
       "      <td>49000</td>\n",
       "      <td>Automatic</td>\n",
       "      <td>All-Wheel Drive</td>\n",
       "      <td>Gasoline</td>\n",
       "      <td>Sport Package, Bluetooth, Backup Camera, Heate...</td>\n",
       "      <td>Lexus</td>\n",
       "      <td>Silver</td>\n",
       "      <td>5.0</td>\n",
       "      <td>235.0</td>\n",
       "      <td>2.0</td>\n",
       "      <td>I4</td>\n",
       "      <td>7</td>\n",
       "    </tr>\n",
       "  </tbody>\n",
       "</table>\n",
       "</div>"
      ],
      "text/plain": [
       "   price         location  mileage transmission        drivetrain  \\\n",
       "0  15990  New Westminster    83000    Automatic               NaN   \n",
       "1  38900  New Westminster    26000    Automatic  Four-Wheel Drive   \n",
       "2  28900   Port Coquitlam    49000    Automatic   All-Wheel Drive   \n",
       "\n",
       "           fuel type                                      major options  \\\n",
       "0                NaN    Bluetooth, Backup Camera, Heated Seats, CarPlay   \n",
       "1  Flex Fuel Vehicle  Alloy Wheels, Bluetooth, Backup Camera, Remote...   \n",
       "2           Gasoline  Sport Package, Bluetooth, Backup Camera, Heate...   \n",
       "\n",
       "        brand   color  no_of_features  engine-hp  engine-l engine-type  age  \n",
       "0  Volkswagen   White             4.0        NaN       NaN         NaN    5  \n",
       "1         RAM    Blue             7.0      305.0       3.6          V6    3  \n",
       "2       Lexus  Silver             5.0      235.0       2.0          I4    7  "
      ]
     },
     "execution_count": 79,
     "metadata": {},
     "output_type": "execute_result"
    }
   ],
   "source": [
    "df.head(3)"
   ]
  },
  {
   "cell_type": "markdown",
   "metadata": {},
   "source": [
    "Reindex the column names"
   ]
  },
  {
   "cell_type": "code",
   "execution_count": 80,
   "metadata": {},
   "outputs": [
    {
     "data": {
      "text/plain": [
       "Index(['price', 'location', 'mileage', 'transmission', 'drivetrain',\n",
       "       'fuel type', 'major options', 'brand', 'color', 'no_of_features',\n",
       "       'engine-hp', 'engine-l', 'engine-type', 'age'],\n",
       "      dtype='object')"
      ]
     },
     "execution_count": 80,
     "metadata": {},
     "output_type": "execute_result"
    }
   ],
   "source": [
    "df.columns"
   ]
  },
  {
   "cell_type": "markdown",
   "metadata": {},
   "source": [
    "Dealing with null values"
   ]
  },
  {
   "cell_type": "code",
   "execution_count": 86,
   "metadata": {},
   "outputs": [
    {
     "name": "stdout",
     "output_type": "stream",
     "text": [
      "<class 'pandas.core.frame.DataFrame'>\n",
      "Int64Index: 2504 entries, 0 to 2534\n",
      "Data columns (total 14 columns):\n",
      " #   Column          Non-Null Count  Dtype  \n",
      "---  ------          --------------  -----  \n",
      " 0   price           2504 non-null   int64  \n",
      " 1   location        2417 non-null   object \n",
      " 2   mileage         2504 non-null   int32  \n",
      " 3   transmission    2448 non-null   object \n",
      " 4   drivetrain      1814 non-null   object \n",
      " 5   fuel type       1985 non-null   object \n",
      " 6   major options   2098 non-null   object \n",
      " 7   brand           2504 non-null   object \n",
      " 8   color           2504 non-null   object \n",
      " 9   no_of_features  2098 non-null   float64\n",
      " 10  engine-hp       1800 non-null   float64\n",
      " 11  engine-l        1950 non-null   float64\n",
      " 12  engine-type     1923 non-null   object \n",
      " 13  age             2504 non-null   int32  \n",
      "dtypes: float64(3), int32(2), int64(1), object(8)\n",
      "memory usage: 353.9+ KB\n"
     ]
    }
   ],
   "source": [
    "df.info()"
   ]
  },
  {
   "cell_type": "markdown",
   "metadata": {},
   "source": [
    "It can be seen that major portion of the missing value is from the columns drivetrain, fuel type, engine-l, engine-type and major option"
   ]
  },
  {
   "cell_type": "code",
   "execution_count": 87,
   "metadata": {},
   "outputs": [],
   "source": [
    "df = df[~(df['drivetrain'].isnull() & df['fuel type'].isnull() & df['engine-hp'].isnull() & df['engine-type'].isnull() & df['engine-l'].isnull())]"
   ]
  },
  {
   "cell_type": "code",
   "execution_count": 88,
   "metadata": {},
   "outputs": [
    {
     "name": "stdout",
     "output_type": "stream",
     "text": [
      "<class 'pandas.core.frame.DataFrame'>\n",
      "Int64Index: 2040 entries, 1 to 2533\n",
      "Data columns (total 14 columns):\n",
      " #   Column          Non-Null Count  Dtype  \n",
      "---  ------          --------------  -----  \n",
      " 0   price           2040 non-null   int64  \n",
      " 1   location        1971 non-null   object \n",
      " 2   mileage         2040 non-null   int32  \n",
      " 3   transmission    1997 non-null   object \n",
      " 4   drivetrain      1814 non-null   object \n",
      " 5   fuel type       1985 non-null   object \n",
      " 6   major options   1718 non-null   object \n",
      " 7   brand           2040 non-null   object \n",
      " 8   color           2040 non-null   object \n",
      " 9   no_of_features  1718 non-null   float64\n",
      " 10  engine-hp       1800 non-null   float64\n",
      " 11  engine-l        1950 non-null   float64\n",
      " 12  engine-type     1923 non-null   object \n",
      " 13  age             2040 non-null   int32  \n",
      "dtypes: float64(3), int32(2), int64(1), object(8)\n",
      "memory usage: 223.1+ KB\n"
     ]
    }
   ],
   "source": [
    "df.info()"
   ]
  },
  {
   "cell_type": "code",
   "execution_count": 89,
   "metadata": {},
   "outputs": [
    {
     "data": {
      "text/plain": [
       "All-Wheel Drive      654\n",
       "Front-Wheel Drive    508\n",
       "Four-Wheel Drive     485\n",
       "Rear-Wheel Drive     167\n",
       "Name: drivetrain, dtype: int64"
      ]
     },
     "execution_count": 89,
     "metadata": {},
     "output_type": "execute_result"
    }
   ],
   "source": [
    "df['drivetrain'].value_counts()"
   ]
  },
  {
   "cell_type": "code",
   "execution_count": 90,
   "metadata": {},
   "outputs": [
    {
     "data": {
      "text/plain": [
       "226"
      ]
     },
     "execution_count": 90,
     "metadata": {},
     "output_type": "execute_result"
    }
   ],
   "source": [
    "df['drivetrain'].isnull().sum()"
   ]
  },
  {
   "cell_type": "markdown",
   "metadata": {},
   "source": [
    "Replace all the null value in drivetrain with All-Wheel Drive"
   ]
  },
  {
   "cell_type": "code",
   "execution_count": 91,
   "metadata": {},
   "outputs": [
    {
     "name": "stderr",
     "output_type": "stream",
     "text": [
      "C:\\Users\\ashra\\anaconda3\\lib\\site-packages\\pandas\\core\\generic.py:6245: SettingWithCopyWarning: \n",
      "A value is trying to be set on a copy of a slice from a DataFrame\n",
      "\n",
      "See the caveats in the documentation: https://pandas.pydata.org/pandas-docs/stable/user_guide/indexing.html#returning-a-view-versus-a-copy\n",
      "  self._update_inplace(new_data)\n"
     ]
    }
   ],
   "source": [
    "df['drivetrain'].fillna('All-Wheel Drive', inplace = True)"
   ]
  },
  {
   "cell_type": "code",
   "execution_count": 92,
   "metadata": {},
   "outputs": [
    {
     "data": {
      "text/plain": [
       "All-Wheel Drive      880\n",
       "Front-Wheel Drive    508\n",
       "Four-Wheel Drive     485\n",
       "Rear-Wheel Drive     167\n",
       "Name: drivetrain, dtype: int64"
      ]
     },
     "execution_count": 92,
     "metadata": {},
     "output_type": "execute_result"
    }
   ],
   "source": [
    "df['drivetrain'].value_counts()"
   ]
  },
  {
   "cell_type": "code",
   "execution_count": 93,
   "metadata": {
    "scrolled": true
   },
   "outputs": [
    {
     "data": {
      "text/plain": [
       "0"
      ]
     },
     "execution_count": 93,
     "metadata": {},
     "output_type": "execute_result"
    }
   ],
   "source": [
    "df['drivetrain'].isnull().sum()"
   ]
  },
  {
   "cell_type": "markdown",
   "metadata": {},
   "source": [
    "Replacing null value in transmission column"
   ]
  },
  {
   "cell_type": "code",
   "execution_count": 94,
   "metadata": {
    "scrolled": false
   },
   "outputs": [
    {
     "data": {
      "text/plain": [
       "43"
      ]
     },
     "execution_count": 94,
     "metadata": {},
     "output_type": "execute_result"
    }
   ],
   "source": [
    "df['transmission'].isnull().sum()"
   ]
  },
  {
   "cell_type": "markdown",
   "metadata": {},
   "source": [
    "Null value in the transmission column will be replaced by mode which is Automatic"
   ]
  },
  {
   "cell_type": "code",
   "execution_count": null,
   "metadata": {},
   "outputs": [],
   "source": []
  },
  {
   "cell_type": "code",
   "execution_count": 95,
   "metadata": {},
   "outputs": [],
   "source": [
    "df['transmission'].fillna('Automatic', inplace = True)"
   ]
  },
  {
   "cell_type": "code",
   "execution_count": 81,
   "metadata": {},
   "outputs": [],
   "source": [
    "##############################################################################################################"
   ]
  },
  {
   "cell_type": "code",
   "execution_count": 84,
   "metadata": {},
   "outputs": [],
   "source": [
    "####################################################################################################################"
   ]
  },
  {
   "cell_type": "code",
   "execution_count": null,
   "metadata": {},
   "outputs": [],
   "source": []
  },
  {
   "cell_type": "code",
   "execution_count": 96,
   "metadata": {},
   "outputs": [
    {
     "data": {
      "text/plain": [
       "0"
      ]
     },
     "execution_count": 96,
     "metadata": {},
     "output_type": "execute_result"
    }
   ],
   "source": [
    "df['transmission'].isnull().sum()"
   ]
  },
  {
   "cell_type": "code",
   "execution_count": 82,
   "metadata": {},
   "outputs": [],
   "source": [
    "#uncomment this one\n",
    "#column_name = ['brand', 'mileage', 'car-type', 'age', 'transmission', 'color', 'drivetrain', 'fuel type', 'engine-hp', 'engine-l', 'engine-type', 'location','no_of_features', 'price']"
   ]
  },
  {
   "cell_type": "code",
   "execution_count": 83,
   "metadata": {},
   "outputs": [],
   "source": [
    "#delete this one\n",
    "column_name = ['brand', 'mileage', 'car-type', 'age', 'transmission', 'color', 'drivetrain', 'fuel type', 'engine-hp', 'engine-l', 'engine-type', 'location','no_of_features', 'major options', 'price']"
   ]
  },
  {
   "cell_type": "markdown",
   "metadata": {},
   "source": [
    "Replacing null value in the column 'fuel type' as the mode of the column Gasoline"
   ]
  },
  {
   "cell_type": "code",
   "execution_count": 97,
   "metadata": {},
   "outputs": [
    {
     "data": {
      "text/plain": [
       "Gasoline             1724\n",
       "Flex Fuel Vehicle     126\n",
       "Diesel                 51\n",
       "Electric               35\n",
       "Hybrid                 25\n",
       "Biodiesel              24\n",
       "Name: fuel type, dtype: int64"
      ]
     },
     "execution_count": 97,
     "metadata": {},
     "output_type": "execute_result"
    }
   ],
   "source": [
    "df['fuel type'].value_counts()"
   ]
  },
  {
   "cell_type": "code",
   "execution_count": 98,
   "metadata": {},
   "outputs": [
    {
     "data": {
      "text/plain": [
       "55"
      ]
     },
     "execution_count": 98,
     "metadata": {},
     "output_type": "execute_result"
    }
   ],
   "source": [
    "df['fuel type'].isnull().sum()"
   ]
  },
  {
   "cell_type": "code",
   "execution_count": 99,
   "metadata": {},
   "outputs": [],
   "source": [
    "df['fuel type'].fillna('Gasoline', inplace = True)"
   ]
  },
  {
   "cell_type": "code",
   "execution_count": 100,
   "metadata": {},
   "outputs": [
    {
     "data": {
      "text/plain": [
       "0"
      ]
     },
     "execution_count": 100,
     "metadata": {},
     "output_type": "execute_result"
    }
   ],
   "source": [
    "df['fuel type'].isnull().sum()"
   ]
  },
  {
   "cell_type": "markdown",
   "metadata": {},
   "source": [
    "Replacing null value in the column 'engine-hp' by the mean of the column"
   ]
  },
  {
   "cell_type": "code",
   "execution_count": 101,
   "metadata": {},
   "outputs": [
    {
     "data": {
      "text/plain": [
       "272.65777777777777"
      ]
     },
     "execution_count": 101,
     "metadata": {},
     "output_type": "execute_result"
    }
   ],
   "source": [
    "engine_hp = df[~df['engine-hp'].isnull()]['engine-hp'].mean()\n",
    "engine_hp"
   ]
  },
  {
   "cell_type": "code",
   "execution_count": 102,
   "metadata": {},
   "outputs": [],
   "source": [
    "df['engine-hp'].fillna(engine_hp, inplace = True)"
   ]
  },
  {
   "cell_type": "code",
   "execution_count": 103,
   "metadata": {},
   "outputs": [
    {
     "data": {
      "text/plain": [
       "0"
      ]
     },
     "execution_count": 103,
     "metadata": {},
     "output_type": "execute_result"
    }
   ],
   "source": [
    "df['engine-hp'].isnull().sum()"
   ]
  },
  {
   "cell_type": "markdown",
   "metadata": {},
   "source": [
    "Replacing null value in the column 'engine-l' by the mean of the column"
   ]
  },
  {
   "cell_type": "code",
   "execution_count": 104,
   "metadata": {},
   "outputs": [
    {
     "data": {
      "text/plain": [
       "3.2029230769230743"
      ]
     },
     "execution_count": 104,
     "metadata": {},
     "output_type": "execute_result"
    }
   ],
   "source": [
    "engine_l = df[~df['engine-l'].isnull()]['engine-l'].mean()\n",
    "engine_l"
   ]
  },
  {
   "cell_type": "code",
   "execution_count": 105,
   "metadata": {},
   "outputs": [],
   "source": [
    "df['engine-l'].fillna(engine_l, inplace = True)"
   ]
  },
  {
   "cell_type": "code",
   "execution_count": 106,
   "metadata": {},
   "outputs": [],
   "source": [
    "# df['Location'] = df['Location'].apply(lambda x: x.split(',')[0] if pd.notnull(x) else a)\n",
    "# df['Location']"
   ]
  },
  {
   "cell_type": "markdown",
   "metadata": {},
   "source": [
    "Replacing null value in column no_of_feature by 0"
   ]
  },
  {
   "cell_type": "code",
   "execution_count": 107,
   "metadata": {},
   "outputs": [
    {
     "data": {
      "text/plain": [
       "Index(['price', 'location', 'mileage', 'transmission', 'drivetrain',\n",
       "       'fuel type', 'major options', 'brand', 'color', 'no_of_features',\n",
       "       'engine-hp', 'engine-l', 'engine-type', 'age'],\n",
       "      dtype='object')"
      ]
     },
     "execution_count": 107,
     "metadata": {},
     "output_type": "execute_result"
    }
   ],
   "source": [
    "df.columns"
   ]
  },
  {
   "cell_type": "code",
   "execution_count": 108,
   "metadata": {},
   "outputs": [
    {
     "data": {
      "text/plain": [
       "322"
      ]
     },
     "execution_count": 108,
     "metadata": {},
     "output_type": "execute_result"
    }
   ],
   "source": [
    "df['no_of_features'].isnull().sum()"
   ]
  },
  {
   "cell_type": "code",
   "execution_count": 109,
   "metadata": {},
   "outputs": [],
   "source": [
    "df['no_of_features'].fillna(-1, inplace = True)"
   ]
  },
  {
   "cell_type": "code",
   "execution_count": 110,
   "metadata": {},
   "outputs": [
    {
     "data": {
      "text/plain": [
       "0"
      ]
     },
     "execution_count": 110,
     "metadata": {},
     "output_type": "execute_result"
    }
   ],
   "source": [
    "df['no_of_features'].isnull().sum()"
   ]
  },
  {
   "cell_type": "code",
   "execution_count": 111,
   "metadata": {},
   "outputs": [
    {
     "data": {
      "text/plain": [
       "1       7\n",
       "2       5\n",
       "3       1\n",
       "4       8\n",
       "5       2\n",
       "       ..\n",
       "2525    6\n",
       "2527    2\n",
       "2528   -1\n",
       "2531    8\n",
       "2533    4\n",
       "Name: no_of_features, Length: 2040, dtype: int32"
      ]
     },
     "execution_count": 111,
     "metadata": {},
     "output_type": "execute_result"
    }
   ],
   "source": [
    "#converting float to string\n",
    "df['no_of_features'].astype(int)"
   ]
  },
  {
   "cell_type": "markdown",
   "metadata": {},
   "source": [
    "engine-type"
   ]
  },
  {
   "cell_type": "code",
   "execution_count": 112,
   "metadata": {},
   "outputs": [
    {
     "data": {
      "text/plain": [
       "I4     854\n",
       "V6     583\n",
       "V8     367\n",
       "I6      88\n",
       "I3      21\n",
       "I5       9\n",
       "V10      1\n",
       "Name: engine-type, dtype: int64"
      ]
     },
     "execution_count": 112,
     "metadata": {},
     "output_type": "execute_result"
    }
   ],
   "source": [
    "df['engine-type'].value_counts()"
   ]
  },
  {
   "cell_type": "code",
   "execution_count": 113,
   "metadata": {},
   "outputs": [
    {
     "data": {
      "text/plain": [
       "117"
      ]
     },
     "execution_count": 113,
     "metadata": {},
     "output_type": "execute_result"
    }
   ],
   "source": [
    "df['engine-type'].isnull().sum()"
   ]
  },
  {
   "cell_type": "markdown",
   "metadata": {},
   "source": [
    "replacing null value in engine-type by mode value I4"
   ]
  },
  {
   "cell_type": "code",
   "execution_count": 114,
   "metadata": {},
   "outputs": [],
   "source": [
    "df['engine-type'].fillna('I4', inplace = True)"
   ]
  },
  {
   "cell_type": "code",
   "execution_count": 115,
   "metadata": {},
   "outputs": [
    {
     "data": {
      "text/plain": [
       "0"
      ]
     },
     "execution_count": 115,
     "metadata": {},
     "output_type": "execute_result"
    }
   ],
   "source": [
    "df['engine-type'].isnull().sum()"
   ]
  },
  {
   "cell_type": "markdown",
   "metadata": {},
   "source": [
    "replacing null value in location with mode location 'surrey'"
   ]
  },
  {
   "cell_type": "code",
   "execution_count": 116,
   "metadata": {
    "scrolled": true
   },
   "outputs": [
    {
     "data": {
      "text/plain": [
       "Surrey             330\n",
       "Vancouver          300\n",
       "Richmond           237\n",
       "Victoria           145\n",
       "Burnaby            135\n",
       "Langley            108\n",
       "Abbotsford         105\n",
       "Coquitlam           89\n",
       "North Vancouver     82\n",
       "Chilliwack          77\n",
       "Nanaimo             74\n",
       "New Westminster     65\n",
       "Maple Ridge         49\n",
       "Langley City        49\n",
       "Duncan              29\n",
       "Port Coquitlam      29\n",
       "Port Moody          20\n",
       "Mission             13\n",
       "Squamish             8\n",
       "Westshore            8\n",
       "Sechelt              7\n",
       "Sidney               4\n",
       "Pitt Meadows         3\n",
       "Aldergrove           2\n",
       "Delta                1\n",
       "Parksville           1\n",
       "West Vancouver       1\n",
       "Name: location, dtype: int64"
      ]
     },
     "execution_count": 116,
     "metadata": {},
     "output_type": "execute_result"
    }
   ],
   "source": [
    "df['location'].value_counts()"
   ]
  },
  {
   "cell_type": "code",
   "execution_count": 117,
   "metadata": {},
   "outputs": [
    {
     "data": {
      "text/plain": [
       "69"
      ]
     },
     "execution_count": 117,
     "metadata": {},
     "output_type": "execute_result"
    }
   ],
   "source": [
    "df['location'].isnull().sum()"
   ]
  },
  {
   "cell_type": "code",
   "execution_count": 118,
   "metadata": {},
   "outputs": [],
   "source": [
    "df['location'].fillna('Surrey', inplace = True)"
   ]
  },
  {
   "cell_type": "code",
   "execution_count": 119,
   "metadata": {},
   "outputs": [
    {
     "data": {
      "text/plain": [
       "0"
      ]
     },
     "execution_count": 119,
     "metadata": {},
     "output_type": "execute_result"
    }
   ],
   "source": [
    "df['location'].isnull().sum()"
   ]
  },
  {
   "cell_type": "code",
   "execution_count": 142,
   "metadata": {},
   "outputs": [],
   "source": [
    "#Saving the CSV for data analysis"
   ]
  },
  {
   "cell_type": "code",
   "execution_count": 130,
   "metadata": {},
   "outputs": [],
   "source": [
    "df.to_csv('cargurus_eda_major_option.csv', index= False)"
   ]
  }
 ],
 "metadata": {
  "kernelspec": {
   "display_name": "Python 3",
   "language": "python",
   "name": "python3"
  },
  "language_info": {
   "codemirror_mode": {
    "name": "ipython",
    "version": 3
   },
   "file_extension": ".py",
   "mimetype": "text/x-python",
   "name": "python",
   "nbconvert_exporter": "python",
   "pygments_lexer": "ipython3",
   "version": "3.8.5"
  }
 },
 "nbformat": 4,
 "nbformat_minor": 5
}
